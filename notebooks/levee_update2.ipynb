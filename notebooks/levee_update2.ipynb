{
 "metadata": {
  "name": "",
  "signature": "sha256:3dcae77b30cccd991240e6c0f066e83a3fcc6a02d73a8852f1df0c5b5fd7147e"
 },
 "nbformat": 3,
 "nbformat_minor": 0,
 "worksheets": [
  {
   "cells": [
    {
     "cell_type": "code",
     "collapsed": false,
     "input": [
      "%matplotlib inline\n",
      "import python_subgrid.wrapper\n",
      "import python_subgrid.plotting\n",
      "import matplotlib.cm\n",
      "import matplotlib.colors\n",
      "import matplotlib.pyplot as plt\n",
      "import numpy as np\n",
      "import logging\n",
      "import shapely.ops\n",
      "import scipy.spatial\n",
      "import scipy.interpolate\n",
      "import shapely.geometry \n",
      "\n",
      "# matrix aii[nod] diagonal, bi[nod] Constant, aijl[links]"
     ],
     "language": "python",
     "metadata": {},
     "outputs": [],
     "prompt_number": 1
    },
    {
     "cell_type": "code",
     "collapsed": false,
     "input": [
      "subgrid = python_subgrid.wrapper.SubgridWrapper(mdu=\"/Users/baart_f/models/kockengen/kockengen_kockengen.mdu\")\n",
      "#subgrid = python_subgrid.wrapper.SubgridWrapper(mdu=\"/home/fedor/Checkouts/models/delfland-model-voor-3di/hhdlipad.mdu\")\n",
      "\n",
      "python_subgrid.wrapper.logger.setLevel(logging.WARN)"
     ],
     "language": "python",
     "metadata": {},
     "outputs": [],
     "prompt_number": 2
    },
    {
     "cell_type": "code",
     "collapsed": false,
     "input": [
      "subgrid.start()"
     ],
     "language": "python",
     "metadata": {},
     "outputs": [
      {
       "output_type": "stream",
       "stream": "stderr",
       "text": [
        "WARNING:python_subgrid.wrapper:File admin/gridkockengen_kockengen.grd  does not exist. Grid will be generated.\n"
       ]
      },
      {
       "output_type": "stream",
       "stream": "stderr",
       "text": [
        "WARNING:python_subgrid.wrapper:Could not open grid admin file 'admin/gridkockengen_kockengen.grd' for writing; iostat=              2\n"
       ]
      },
      {
       "output_type": "stream",
       "stream": "stderr",
       "text": [
        "WARNING:python_subgrid.wrapper:Crest level of structure connection_1 is below bed level of adjacent cells, crest level is raised to bed level\n"
       ]
      },
      {
       "output_type": "stream",
       "stream": "stderr",
       "text": [
        "WARNING:python_subgrid.wrapper:Crest level of structure connection_1 is below bed level of adjacent cells, crest level is raised to bed level\n"
       ]
      },
      {
       "output_type": "stream",
       "stream": "stderr",
       "text": [
        "WARNING:python_subgrid.wrapper:Crest level of structure connection_1 is below bed level of adjacent cells, crest level is raised to bed level\n"
       ]
      },
      {
       "output_type": "stream",
       "stream": "stderr",
       "text": [
        "WARNING:python_subgrid.wrapper:Crest level of structure connection_1 is below bed level of adjacent cells, crest level is raised to bed level\n"
       ]
      },
      {
       "output_type": "stream",
       "stream": "stderr",
       "text": [
        "WARNING:python_subgrid.wrapper:Crest level of structure connection_1 is below bed level of adjacent cells, crest level is raised to bed level\n"
       ]
      },
      {
       "output_type": "stream",
       "stream": "stderr",
       "text": [
        "WARNING:python_subgrid.wrapper:Crest level of structure connection_1 is below bed level of adjacent cells, crest level is raised to bed level\n"
       ]
      },
      {
       "output_type": "stream",
       "stream": "stderr",
       "text": [
        "WARNING:python_subgrid.wrapper:Crest level of structure connection_1 is below bed level of adjacent cells, crest level is raised to bed level\n"
       ]
      },
      {
       "output_type": "stream",
       "stream": "stderr",
       "text": [
        "WARNING:python_subgrid.wrapper:Crest level of structure connection_2 is below bed level of adjacent cells, crest level is raised to bed level\n"
       ]
      },
      {
       "output_type": "stream",
       "stream": "stderr",
       "text": [
        "WARNING:python_subgrid.wrapper:Crest level of structure connection_2 is below bed level of adjacent cells, crest level is raised to bed level\n"
       ]
      },
      {
       "output_type": "stream",
       "stream": "stderr",
       "text": [
        "WARNING:python_subgrid.wrapper:Crest level of structure connection_2 is below bed level of adjacent cells, crest level is raised to bed level\n"
       ]
      },
      {
       "output_type": "stream",
       "stream": "stderr",
       "text": [
        "WARNING:python_subgrid.wrapper:Crest level of structure connection_2 is below bed level of adjacent cells, crest level is raised to bed level\n"
       ]
      },
      {
       "output_type": "stream",
       "stream": "stderr",
       "text": [
        "WARNING:python_subgrid.wrapper:Crest level of structure connection_2 is below bed level of adjacent cells, crest level is raised to bed level\n"
       ]
      },
      {
       "output_type": "stream",
       "stream": "stderr",
       "text": [
        "WARNING:python_subgrid.wrapper:Crest level of structure connection_2 is below bed level of adjacent cells, crest level is raised to bed level\n"
       ]
      },
      {
       "output_type": "stream",
       "stream": "stderr",
       "text": [
        "WARNING:python_subgrid.wrapper:Crest level of structure connection_2 is below bed level of adjacent cells, crest level is raised to bed level\n"
       ]
      },
      {
       "output_type": "stream",
       "stream": "stderr",
       "text": [
        "WARNING:python_subgrid.wrapper:Crest level of structure connection_3 is below bed level of adjacent cells, crest level is raised to bed level\n"
       ]
      },
      {
       "output_type": "stream",
       "stream": "stderr",
       "text": [
        "WARNING:python_subgrid.wrapper:Crest level of structure connection_3 is below bed level of adjacent cells, crest level is raised to bed level\n"
       ]
      },
      {
       "output_type": "stream",
       "stream": "stderr",
       "text": [
        "WARNING:python_subgrid.wrapper:Crest level of structure connection_3 is below bed level of adjacent cells, crest level is raised to bed level\n"
       ]
      },
      {
       "output_type": "stream",
       "stream": "stderr",
       "text": [
        "WARNING:python_subgrid.wrapper:Crest level of structure connection_3 is below bed level of adjacent cells, crest level is raised to bed level\n"
       ]
      },
      {
       "output_type": "stream",
       "stream": "stderr",
       "text": [
        "WARNING:python_subgrid.wrapper:Crest level of structure connection_3 is below bed level of adjacent cells, crest level is raised to bed level\n"
       ]
      },
      {
       "output_type": "stream",
       "stream": "stderr",
       "text": [
        "WARNING:python_subgrid.wrapper:Crest level of structure connection_3 is below bed level of adjacent cells, crest level is raised to bed level\n"
       ]
      },
      {
       "output_type": "stream",
       "stream": "stderr",
       "text": [
        "WARNING:python_subgrid.wrapper:Crest level of structure connection_3 is below bed level of adjacent cells, crest level is raised to bed level\n"
       ]
      },
      {
       "output_type": "stream",
       "stream": "stderr",
       "text": [
        "WARNING:python_subgrid.wrapper:Crest level of structure connection_3 is below bed level of adjacent cells, crest level is raised to bed level\n"
       ]
      },
      {
       "output_type": "stream",
       "stream": "stderr",
       "text": [
        "WARNING:python_subgrid.wrapper:Crest level of structure connection_3 is below bed level of adjacent cells, crest level is raised to bed level\n"
       ]
      },
      {
       "output_type": "stream",
       "stream": "stderr",
       "text": [
        "WARNING:python_subgrid.wrapper:Crest level of structure connection_3 is below bed level of adjacent cells, crest level is raised to bed level\n"
       ]
      },
      {
       "output_type": "stream",
       "stream": "stderr",
       "text": [
        "WARNING:python_subgrid.wrapper:Crest level of structure connection_3 is below bed level of adjacent cells, crest level is raised to bed level\n"
       ]
      },
      {
       "output_type": "stream",
       "stream": "stderr",
       "text": [
        "WARNING:python_subgrid.wrapper:Crest level of structure connection_4 is below bed level of adjacent cells, crest level is raised to bed level\n"
       ]
      },
      {
       "output_type": "stream",
       "stream": "stderr",
       "text": [
        "WARNING:python_subgrid.wrapper:Crest level of structure connection_4 is below bed level of adjacent cells, crest level is raised to bed level\n"
       ]
      },
      {
       "output_type": "stream",
       "stream": "stderr",
       "text": [
        "WARNING:python_subgrid.wrapper:Crest level of structure connection_4 is below bed level of adjacent cells, crest level is raised to bed level\n"
       ]
      },
      {
       "output_type": "stream",
       "stream": "stderr",
       "text": [
        "WARNING:python_subgrid.wrapper:Crest level of structure connection_4 is below bed level of adjacent cells, crest level is raised to bed level\n"
       ]
      },
      {
       "output_type": "stream",
       "stream": "stderr",
       "text": [
        "WARNING:python_subgrid.wrapper:Crest level of structure connection_4 is below bed level of adjacent cells, crest level is raised to bed level\n"
       ]
      },
      {
       "output_type": "stream",
       "stream": "stderr",
       "text": [
        "WARNING:python_subgrid.wrapper:Crest level of structure connection_4 is below bed level of adjacent cells, crest level is raised to bed level\n"
       ]
      },
      {
       "output_type": "stream",
       "stream": "stderr",
       "text": [
        "WARNING:python_subgrid.wrapper:Crest level of structure connection_5 is below bed level of adjacent cells, crest level is raised to bed level\n"
       ]
      },
      {
       "output_type": "stream",
       "stream": "stderr",
       "text": [
        "WARNING:python_subgrid.wrapper:Crest level of structure connection_5 is below bed level of adjacent cells, crest level is raised to bed level\n"
       ]
      },
      {
       "output_type": "stream",
       "stream": "stderr",
       "text": [
        "WARNING:python_subgrid.wrapper:Crest level of structure connection_5 is below bed level of adjacent cells, crest level is raised to bed level\n"
       ]
      },
      {
       "output_type": "stream",
       "stream": "stderr",
       "text": [
        "WARNING:python_subgrid.wrapper:Crest level of structure connection_5 is below bed level of adjacent cells, crest level is raised to bed level\n"
       ]
      },
      {
       "output_type": "stream",
       "stream": "stderr",
       "text": [
        "WARNING:python_subgrid.wrapper:Crest level of structure connection_5 is below bed level of adjacent cells, crest level is raised to bed level\n"
       ]
      },
      {
       "output_type": "stream",
       "stream": "stderr",
       "text": [
        "WARNING:python_subgrid.wrapper:Crest level of structure connection_6 is below bed level of adjacent cells, crest level is raised to bed level\n"
       ]
      },
      {
       "output_type": "stream",
       "stream": "stderr",
       "text": [
        "WARNING:python_subgrid.wrapper:Crest level of structure connection_6 is below bed level of adjacent cells, crest level is raised to bed level\n"
       ]
      },
      {
       "output_type": "stream",
       "stream": "stderr",
       "text": [
        "WARNING:python_subgrid.wrapper:Crest level of structure connection_6 is below bed level of adjacent cells, crest level is raised to bed level\n"
       ]
      },
      {
       "output_type": "stream",
       "stream": "stderr",
       "text": [
        "WARNING:python_subgrid.wrapper:Crest level of structure connection_6 is below bed level of adjacent cells, crest level is raised to bed level\n"
       ]
      },
      {
       "output_type": "stream",
       "stream": "stderr",
       "text": [
        "WARNING:python_subgrid.wrapper:Crest level of structure connection_6 is below bed level of adjacent cells, crest level is raised to bed level\n"
       ]
      },
      {
       "output_type": "stream",
       "stream": "stderr",
       "text": [
        "WARNING:python_subgrid.wrapper:Crest level of structure connection_6 is below bed level of adjacent cells, crest level is raised to bed level\n"
       ]
      },
      {
       "output_type": "stream",
       "stream": "stderr",
       "text": [
        "WARNING:python_subgrid.wrapper:Crest level of structure connection_7 is below bed level of adjacent cells, crest level is raised to bed level\n"
       ]
      },
      {
       "output_type": "stream",
       "stream": "stderr",
       "text": [
        "WARNING:python_subgrid.wrapper:Crest level of structure connection_7 is below bed level of adjacent cells, crest level is raised to bed level\n"
       ]
      },
      {
       "output_type": "stream",
       "stream": "stderr",
       "text": [
        "WARNING:python_subgrid.wrapper:Crest level of structure connection_7 is below bed level of adjacent cells, crest level is raised to bed level\n"
       ]
      },
      {
       "output_type": "stream",
       "stream": "stderr",
       "text": [
        "WARNING:python_subgrid.wrapper:Crest level of structure connection_7 is below bed level of adjacent cells, crest level is raised to bed level\n"
       ]
      },
      {
       "output_type": "stream",
       "stream": "stderr",
       "text": [
        "WARNING:python_subgrid.wrapper:Crest level of structure connection_7 is below bed level of adjacent cells, crest level is raised to bed level\n"
       ]
      },
      {
       "output_type": "stream",
       "stream": "stderr",
       "text": [
        "WARNING:python_subgrid.wrapper:Crest level of structure connection_7 is below bed level of adjacent cells, crest level is raised to bed level\n"
       ]
      },
      {
       "output_type": "stream",
       "stream": "stderr",
       "text": [
        "WARNING:python_subgrid.wrapper:Crest level of structure connection_7 is below bed level of adjacent cells, crest level is raised to bed level\n"
       ]
      },
      {
       "output_type": "stream",
       "stream": "stderr",
       "text": [
        "WARNING:python_subgrid.wrapper:Crest level of structure connection_7 is below bed level of adjacent cells, crest level is raised to bed level\n"
       ]
      },
      {
       "output_type": "stream",
       "stream": "stderr",
       "text": [
        "WARNING:python_subgrid.wrapper:Crest level of structure connection_7 is below bed level of adjacent cells, crest level is raised to bed level\n"
       ]
      },
      {
       "output_type": "stream",
       "stream": "stderr",
       "text": [
        "WARNING:python_subgrid.wrapper:Crest level of structure connection_7 is below bed level of adjacent cells, crest level is raised to bed level\n"
       ]
      },
      {
       "output_type": "stream",
       "stream": "stderr",
       "text": [
        "WARNING:python_subgrid.wrapper:Crest level of structure connection_7 is below bed level of adjacent cells, crest level is raised to bed level\n"
       ]
      },
      {
       "output_type": "stream",
       "stream": "stderr",
       "text": [
        "WARNING:python_subgrid.wrapper:Crest level of structure connection_8 is below bed level of adjacent cells, crest level is raised to bed level\n"
       ]
      },
      {
       "output_type": "stream",
       "stream": "stderr",
       "text": [
        "WARNING:python_subgrid.wrapper:Crest level of structure connection_8 is below bed level of adjacent cells, crest level is raised to bed level\n"
       ]
      },
      {
       "output_type": "stream",
       "stream": "stderr",
       "text": [
        "WARNING:python_subgrid.wrapper:Crest level of structure connection_8 is below bed level of adjacent cells, crest level is raised to bed level\n"
       ]
      },
      {
       "output_type": "stream",
       "stream": "stderr",
       "text": [
        "WARNING:python_subgrid.wrapper:Crest level of structure connection_8 is below bed level of adjacent cells, crest level is raised to bed level\n"
       ]
      },
      {
       "output_type": "stream",
       "stream": "stderr",
       "text": [
        "WARNING:python_subgrid.wrapper:Crest level of structure connection_8 is below bed level of adjacent cells, crest level is raised to bed level\n"
       ]
      },
      {
       "output_type": "stream",
       "stream": "stderr",
       "text": [
        "WARNING:python_subgrid.wrapper:Crest level of structure connection_9 is below bed level of adjacent cells, crest level is raised to bed level\n"
       ]
      },
      {
       "output_type": "stream",
       "stream": "stderr",
       "text": [
        "WARNING:python_subgrid.wrapper:Crest level of structure connection_9 is below bed level of adjacent cells, crest level is raised to bed level\n"
       ]
      },
      {
       "output_type": "stream",
       "stream": "stderr",
       "text": [
        "WARNING:python_subgrid.wrapper:Crest level of structure connection_9 is below bed level of adjacent cells, crest level is raised to bed level\n"
       ]
      },
      {
       "output_type": "stream",
       "stream": "stderr",
       "text": [
        "WARNING:python_subgrid.wrapper:Crest level of structure connection_9 is below bed level of adjacent cells, crest level is raised to bed level\n"
       ]
      },
      {
       "output_type": "stream",
       "stream": "stderr",
       "text": [
        "WARNING:python_subgrid.wrapper:Crest level of structure connection_9 is below bed level of adjacent cells, crest level is raised to bed level\n"
       ]
      },
      {
       "output_type": "stream",
       "stream": "stderr",
       "text": [
        "WARNING:python_subgrid.wrapper:Crest level of structure connection_9 is below bed level of adjacent cells, crest level is raised to bed level\n"
       ]
      },
      {
       "output_type": "stream",
       "stream": "stderr",
       "text": [
        "WARNING:python_subgrid.wrapper:Crest level of structure connection_9 is below bed level of adjacent cells, crest level is raised to bed level\n"
       ]
      },
      {
       "output_type": "stream",
       "stream": "stderr",
       "text": [
        "WARNING:python_subgrid.wrapper:Crest level of structure connection_9 is below bed level of adjacent cells, crest level is raised to bed level\n"
       ]
      },
      {
       "output_type": "stream",
       "stream": "stderr",
       "text": [
        "WARNING:python_subgrid.wrapper:Crest level of structure connection_10 is below bed level of adjacent cells, crest level is raised to bed level\n"
       ]
      },
      {
       "output_type": "stream",
       "stream": "stderr",
       "text": [
        "WARNING:python_subgrid.wrapper:Crest level of structure connection_10 is below bed level of adjacent cells, crest level is raised to bed level\n"
       ]
      },
      {
       "output_type": "stream",
       "stream": "stderr",
       "text": [
        "WARNING:python_subgrid.wrapper:Crest level of structure connection_10 is below bed level of adjacent cells, crest level is raised to bed level\n"
       ]
      },
      {
       "output_type": "stream",
       "stream": "stderr",
       "text": [
        "WARNING:python_subgrid.wrapper:Crest level of structure connection_10 is below bed level of adjacent cells, crest level is raised to bed level\n"
       ]
      },
      {
       "output_type": "stream",
       "stream": "stderr",
       "text": [
        "WARNING:python_subgrid.wrapper:Crest level of structure connection_10 is below bed level of adjacent cells, crest level is raised to bed level\n"
       ]
      },
      {
       "output_type": "stream",
       "stream": "stderr",
       "text": [
        "WARNING:python_subgrid.wrapper:Crest level of structure connection_10 is below bed level of adjacent cells, crest level is raised to bed level\n"
       ]
      },
      {
       "output_type": "stream",
       "stream": "stderr",
       "text": [
        "WARNING:python_subgrid.wrapper:Crest level of structure connection_10 is below bed level of adjacent cells, crest level is raised to bed level\n"
       ]
      },
      {
       "output_type": "stream",
       "stream": "stderr",
       "text": [
        "WARNING:python_subgrid.wrapper:Crest level of structure connection_10 is below bed level of adjacent cells, crest level is raised to bed level\n"
       ]
      },
      {
       "output_type": "stream",
       "stream": "stderr",
       "text": [
        "WARNING:python_subgrid.wrapper:Crest level of structure connection_11 is below bed level of adjacent cells, crest level is raised to bed level\n"
       ]
      },
      {
       "output_type": "stream",
       "stream": "stderr",
       "text": [
        "WARNING:python_subgrid.wrapper:Crest level of structure connection_11 is below bed level of adjacent cells, crest level is raised to bed level\n"
       ]
      },
      {
       "output_type": "stream",
       "stream": "stderr",
       "text": [
        "WARNING:python_subgrid.wrapper:Crest level of structure connection_11 is below bed level of adjacent cells, crest level is raised to bed level\n"
       ]
      },
      {
       "output_type": "stream",
       "stream": "stderr",
       "text": [
        "WARNING:python_subgrid.wrapper:Crest level of structure connection_11 is below bed level of adjacent cells, crest level is raised to bed level\n"
       ]
      },
      {
       "output_type": "stream",
       "stream": "stderr",
       "text": [
        "WARNING:python_subgrid.wrapper:Crest level of structure connection_11 is below bed level of adjacent cells, crest level is raised to bed level\n"
       ]
      },
      {
       "output_type": "stream",
       "stream": "stderr",
       "text": [
        "WARNING:python_subgrid.wrapper:Crest level of structure connection_11 is below bed level of adjacent cells, crest level is raised to bed level\n"
       ]
      },
      {
       "output_type": "stream",
       "stream": "stderr",
       "text": [
        "WARNING:python_subgrid.wrapper:Crest level of structure connection_11 is below bed level of adjacent cells, crest level is raised to bed level\n"
       ]
      },
      {
       "output_type": "stream",
       "stream": "stderr",
       "text": [
        "WARNING:python_subgrid.wrapper:Crest level of structure connection_11 is below bed level of adjacent cells, crest level is raised to bed level\n"
       ]
      },
      {
       "output_type": "stream",
       "stream": "stderr",
       "text": [
        "WARNING:python_subgrid.wrapper:Crest level of structure connection_11 is below bed level of adjacent cells, crest level is raised to bed level\n"
       ]
      },
      {
       "output_type": "stream",
       "stream": "stderr",
       "text": [
        "WARNING:python_subgrid.wrapper:Crest level of structure connection_11 is below bed level of adjacent cells, crest level is raised to bed level\n"
       ]
      },
      {
       "output_type": "stream",
       "stream": "stderr",
       "text": [
        "WARNING:python_subgrid.wrapper:Crest level of structure connection_12 is below bed level of adjacent cells, crest level is raised to bed level\n"
       ]
      },
      {
       "output_type": "stream",
       "stream": "stderr",
       "text": [
        "WARNING:python_subgrid.wrapper:Crest level of structure connection_12 is below bed level of adjacent cells, crest level is raised to bed level\n"
       ]
      },
      {
       "output_type": "stream",
       "stream": "stderr",
       "text": [
        "WARNING:python_subgrid.wrapper:Crest level of structure connection_12 is below bed level of adjacent cells, crest level is raised to bed level\n"
       ]
      },
      {
       "output_type": "stream",
       "stream": "stderr",
       "text": [
        "WARNING:python_subgrid.wrapper:Crest level of structure connection_12 is below bed level of adjacent cells, crest level is raised to bed level\n"
       ]
      },
      {
       "output_type": "stream",
       "stream": "stderr",
       "text": [
        "WARNING:python_subgrid.wrapper:Crest level of structure connection_12 is below bed level of adjacent cells, crest level is raised to bed level\n"
       ]
      },
      {
       "output_type": "stream",
       "stream": "stderr",
       "text": [
        "WARNING:python_subgrid.wrapper:Crest level of structure connection_12 is below bed level of adjacent cells, crest level is raised to bed level\n"
       ]
      },
      {
       "output_type": "stream",
       "stream": "stderr",
       "text": [
        "WARNING:python_subgrid.wrapper:Crest level of structure connection_12 is below bed level of adjacent cells, crest level is raised to bed level\n"
       ]
      },
      {
       "output_type": "stream",
       "stream": "stderr",
       "text": [
        "WARNING:python_subgrid.wrapper:Crest level of structure connection_12 is below bed level of adjacent cells, crest level is raised to bed level\n"
       ]
      },
      {
       "output_type": "stream",
       "stream": "stderr",
       "text": [
        "WARNING:python_subgrid.wrapper:Crest level of structure connection_12 is below bed level of adjacent cells, crest level is raised to bed level\n"
       ]
      },
      {
       "output_type": "stream",
       "stream": "stderr",
       "text": [
        "WARNING:python_subgrid.wrapper:Crest level of structure connection_12 is below bed level of adjacent cells, crest level is raised to bed level\n"
       ]
      },
      {
       "output_type": "stream",
       "stream": "stderr",
       "text": [
        "WARNING:python_subgrid.wrapper:Crest level of structure connection_13 is below bed level of adjacent cells, crest level is raised to bed level\n"
       ]
      },
      {
       "output_type": "stream",
       "stream": "stderr",
       "text": [
        "WARNING:python_subgrid.wrapper:Crest level of structure connection_13 is below bed level of adjacent cells, crest level is raised to bed level\n"
       ]
      },
      {
       "output_type": "stream",
       "stream": "stderr",
       "text": [
        "WARNING:python_subgrid.wrapper:Crest level of structure connection_13 is below bed level of adjacent cells, crest level is raised to bed level\n"
       ]
      },
      {
       "output_type": "stream",
       "stream": "stderr",
       "text": [
        "WARNING:python_subgrid.wrapper:Crest level of structure connection_13 is below bed level of adjacent cells, crest level is raised to bed level\n"
       ]
      },
      {
       "output_type": "stream",
       "stream": "stderr",
       "text": [
        "WARNING:python_subgrid.wrapper:Crest level of structure connection_13 is below bed level of adjacent cells, crest level is raised to bed level\n"
       ]
      },
      {
       "output_type": "stream",
       "stream": "stderr",
       "text": [
        "WARNING:python_subgrid.wrapper:Crest level of structure connection_13 is below bed level of adjacent cells, crest level is raised to bed level\n"
       ]
      },
      {
       "output_type": "stream",
       "stream": "stderr",
       "text": [
        "WARNING:python_subgrid.wrapper:Crest level of structure connection_13 is below bed level of adjacent cells, crest level is raised to bed level\n"
       ]
      },
      {
       "output_type": "stream",
       "stream": "stderr",
       "text": [
        "WARNING:python_subgrid.wrapper:Crest level of structure connection_13 is below bed level of adjacent cells, crest level is raised to bed level\n"
       ]
      },
      {
       "output_type": "stream",
       "stream": "stderr",
       "text": [
        "WARNING:python_subgrid.wrapper:Crest level of structure connection_13 is below bed level of adjacent cells, crest level is raised to bed level\n"
       ]
      },
      {
       "output_type": "stream",
       "stream": "stderr",
       "text": [
        "WARNING:python_subgrid.wrapper:Crest level of structure connection_13 is below bed level of adjacent cells, crest level is raised to bed level\n"
       ]
      },
      {
       "output_type": "stream",
       "stream": "stderr",
       "text": [
        "WARNING:python_subgrid.wrapper:Crest level of structure connection_13 is below bed level of adjacent cells, crest level is raised to bed level\n"
       ]
      },
      {
       "output_type": "stream",
       "stream": "stderr",
       "text": [
        "WARNING:python_subgrid.wrapper:Crest level of structure connection_13 is below bed level of adjacent cells, crest level is raised to bed level\n"
       ]
      },
      {
       "output_type": "stream",
       "stream": "stderr",
       "text": [
        "WARNING:python_subgrid.wrapper:Crest level of structure connection_13 is below bed level of adjacent cells, crest level is raised to bed level\n"
       ]
      },
      {
       "output_type": "stream",
       "stream": "stderr",
       "text": [
        "WARNING:python_subgrid.wrapper:Crest level of structure connection_13 is below bed level of adjacent cells, crest level is raised to bed level\n"
       ]
      },
      {
       "output_type": "stream",
       "stream": "stderr",
       "text": [
        "WARNING:python_subgrid.wrapper:Crest level of structure connection_13 is below bed level of adjacent cells, crest level is raised to bed level\n"
       ]
      },
      {
       "output_type": "stream",
       "stream": "stderr",
       "text": [
        "WARNING:python_subgrid.wrapper:Crest level of structure connection_13 is below bed level of adjacent cells, crest level is raised to bed level\n"
       ]
      },
      {
       "output_type": "stream",
       "stream": "stderr",
       "text": [
        "WARNING:python_subgrid.wrapper:Crest level of structure connection_13 is below bed level of adjacent cells, crest level is raised to bed level\n"
       ]
      },
      {
       "output_type": "stream",
       "stream": "stderr",
       "text": [
        "WARNING:python_subgrid.wrapper:Crest level of structure connection_13 is below bed level of adjacent cells, crest level is raised to bed level\n"
       ]
      },
      {
       "output_type": "stream",
       "stream": "stderr",
       "text": [
        "WARNING:python_subgrid.wrapper:Crest level of structure connection_13 is below bed level of adjacent cells, crest level is raised to bed level\n"
       ]
      },
      {
       "output_type": "stream",
       "stream": "stderr",
       "text": [
        "WARNING:python_subgrid.wrapper:Crest level of structure connection_13 is below bed level of adjacent cells, crest level is raised to bed level\n"
       ]
      },
      {
       "output_type": "stream",
       "stream": "stderr",
       "text": [
        "WARNING:python_subgrid.wrapper:Crest level of structure connection_13 is below bed level of adjacent cells, crest level is raised to bed level\n"
       ]
      },
      {
       "output_type": "stream",
       "stream": "stderr",
       "text": [
        "WARNING:python_subgrid.wrapper:Crest level of structure connection_13 is below bed level of adjacent cells, crest level is raised to bed level\n"
       ]
      },
      {
       "output_type": "stream",
       "stream": "stderr",
       "text": [
        "WARNING:python_subgrid.wrapper:Crest level of structure connection_13 is below bed level of adjacent cells, crest level is raised to bed level\n"
       ]
      },
      {
       "output_type": "stream",
       "stream": "stderr",
       "text": [
        "WARNING:python_subgrid.wrapper:Crest level of structure connection_13 is below bed level of adjacent cells, crest level is raised to bed level\n"
       ]
      },
      {
       "output_type": "stream",
       "stream": "stderr",
       "text": [
        "WARNING:python_subgrid.wrapper:Crest level of structure connection_13 is below bed level of adjacent cells, crest level is raised to bed level\n"
       ]
      },
      {
       "output_type": "stream",
       "stream": "stderr",
       "text": [
        "WARNING:python_subgrid.wrapper:Crest level of structure connection_14 is below bed level of adjacent cells, crest level is raised to bed level\n"
       ]
      },
      {
       "output_type": "stream",
       "stream": "stderr",
       "text": [
        "WARNING:python_subgrid.wrapper:Crest level of structure connection_14 is below bed level of adjacent cells, crest level is raised to bed level\n"
       ]
      },
      {
       "output_type": "stream",
       "stream": "stderr",
       "text": [
        "WARNING:python_subgrid.wrapper:Crest level of structure connection_14 is below bed level of adjacent cells, crest level is raised to bed level\n"
       ]
      },
      {
       "output_type": "stream",
       "stream": "stderr",
       "text": [
        "WARNING:python_subgrid.wrapper:Crest level of structure connection_14 is below bed level of adjacent cells, crest level is raised to bed level\n"
       ]
      },
      {
       "output_type": "stream",
       "stream": "stderr",
       "text": [
        "WARNING:python_subgrid.wrapper:Crest level of structure connection_14 is below bed level of adjacent cells, crest level is raised to bed level\n"
       ]
      },
      {
       "output_type": "stream",
       "stream": "stderr",
       "text": [
        "WARNING:python_subgrid.wrapper:Crest level of structure connection_14 is below bed level of adjacent cells, crest level is raised to bed level\n"
       ]
      },
      {
       "output_type": "stream",
       "stream": "stderr",
       "text": [
        "WARNING:python_subgrid.wrapper:Crest level of structure connection_14 is below bed level of adjacent cells, crest level is raised to bed level\n"
       ]
      },
      {
       "output_type": "stream",
       "stream": "stderr",
       "text": [
        "WARNING:python_subgrid.wrapper:Crest level of structure connection_15 is below bed level of adjacent cells, crest level is raised to bed level\n"
       ]
      },
      {
       "output_type": "stream",
       "stream": "stderr",
       "text": [
        "WARNING:python_subgrid.wrapper:Crest level of structure connection_15 is below bed level of adjacent cells, crest level is raised to bed level\n"
       ]
      },
      {
       "output_type": "stream",
       "stream": "stderr",
       "text": [
        "WARNING:python_subgrid.wrapper:Crest level of structure connection_15 is below bed level of adjacent cells, crest level is raised to bed level\n"
       ]
      },
      {
       "output_type": "stream",
       "stream": "stderr",
       "text": [
        "WARNING:python_subgrid.wrapper:Crest level of structure connection_15 is below bed level of adjacent cells, crest level is raised to bed level\n"
       ]
      },
      {
       "output_type": "stream",
       "stream": "stderr",
       "text": [
        "WARNING:python_subgrid.wrapper:Crest level of structure connection_15 is below bed level of adjacent cells, crest level is raised to bed level\n"
       ]
      },
      {
       "output_type": "stream",
       "stream": "stderr",
       "text": [
        "WARNING:python_subgrid.wrapper:Crest level of structure connection_15 is below bed level of adjacent cells, crest level is raised to bed level\n"
       ]
      },
      {
       "output_type": "stream",
       "stream": "stderr",
       "text": [
        "WARNING:python_subgrid.wrapper:Crest level of structure connection_16 is below bed level of adjacent cells, crest level is raised to bed level\n"
       ]
      },
      {
       "output_type": "stream",
       "stream": "stderr",
       "text": [
        "WARNING:python_subgrid.wrapper:Crest level of structure connection_16 is below bed level of adjacent cells, crest level is raised to bed level\n"
       ]
      },
      {
       "output_type": "stream",
       "stream": "stderr",
       "text": [
        "WARNING:python_subgrid.wrapper:Crest level of structure connection_16 is below bed level of adjacent cells, crest level is raised to bed level\n"
       ]
      },
      {
       "output_type": "stream",
       "stream": "stderr",
       "text": [
        "WARNING:python_subgrid.wrapper:Crest level of structure connection_16 is below bed level of adjacent cells, crest level is raised to bed level\n"
       ]
      },
      {
       "output_type": "stream",
       "stream": "stderr",
       "text": [
        "WARNING:python_subgrid.wrapper:Crest level of structure connection_16 is below bed level of adjacent cells, crest level is raised to bed level\n"
       ]
      },
      {
       "output_type": "stream",
       "stream": "stderr",
       "text": [
        "WARNING:python_subgrid.wrapper:Crest level of structure connection_16 is below bed level of adjacent cells, crest level is raised to bed level\n"
       ]
      },
      {
       "output_type": "stream",
       "stream": "stderr",
       "text": [
        "WARNING:python_subgrid.wrapper:Crest level of structure connection_16 is below bed level of adjacent cells, crest level is raised to bed level\n"
       ]
      },
      {
       "output_type": "stream",
       "stream": "stderr",
       "text": [
        "WARNING:python_subgrid.wrapper:Crest level of structure connection_16 is below bed level of adjacent cells, crest level is raised to bed level\n"
       ]
      },
      {
       "output_type": "stream",
       "stream": "stderr",
       "text": [
        "WARNING:python_subgrid.wrapper:Crest level of structure connection_16 is below bed level of adjacent cells, crest level is raised to bed level\n"
       ]
      },
      {
       "output_type": "stream",
       "stream": "stderr",
       "text": [
        "WARNING:python_subgrid.wrapper:Crest level of structure connection_16 is below bed level of adjacent cells, crest level is raised to bed level\n"
       ]
      },
      {
       "output_type": "stream",
       "stream": "stderr",
       "text": [
        "WARNING:python_subgrid.wrapper:Crest level of structure connection_16 is below bed level of adjacent cells, crest level is raised to bed level\n"
       ]
      },
      {
       "output_type": "stream",
       "stream": "stderr",
       "text": [
        "WARNING:python_subgrid.wrapper:Crest level of structure connection_16 is below bed level of adjacent cells, crest level is raised to bed level\n"
       ]
      },
      {
       "output_type": "stream",
       "stream": "stderr",
       "text": [
        "WARNING:python_subgrid.wrapper:Crest level of structure connection_16 is below bed level of adjacent cells, crest level is raised to bed level\n"
       ]
      },
      {
       "output_type": "stream",
       "stream": "stderr",
       "text": [
        "WARNING:python_subgrid.wrapper:Crest level of structure connection_16 is below bed level of adjacent cells, crest level is raised to bed level\n"
       ]
      },
      {
       "output_type": "stream",
       "stream": "stderr",
       "text": [
        "WARNING:python_subgrid.wrapper:Crest level of structure connection_16 is below bed level of adjacent cells, crest level is raised to bed level\n"
       ]
      },
      {
       "output_type": "stream",
       "stream": "stderr",
       "text": [
        "WARNING:python_subgrid.wrapper:Crest level of structure connection_16 is below bed level of adjacent cells, crest level is raised to bed level\n"
       ]
      },
      {
       "output_type": "stream",
       "stream": "stderr",
       "text": [
        "WARNING:python_subgrid.wrapper:Crest level of structure connection_16 is below bed level of adjacent cells, crest level is raised to bed level\n"
       ]
      },
      {
       "output_type": "stream",
       "stream": "stderr",
       "text": [
        "WARNING:python_subgrid.wrapper:Crest level of structure connection_16 is below bed level of adjacent cells, crest level is raised to bed level\n"
       ]
      },
      {
       "output_type": "stream",
       "stream": "stderr",
       "text": [
        "WARNING:python_subgrid.wrapper:Crest level of structure connection_17 is below bed level of adjacent cells, crest level is raised to bed level\n"
       ]
      },
      {
       "output_type": "stream",
       "stream": "stderr",
       "text": [
        "WARNING:python_subgrid.wrapper:Crest level of structure connection_17 is below bed level of adjacent cells, crest level is raised to bed level\n"
       ]
      },
      {
       "output_type": "stream",
       "stream": "stderr",
       "text": [
        "WARNING:python_subgrid.wrapper:Crest level of structure connection_17 is below bed level of adjacent cells, crest level is raised to bed level\n"
       ]
      },
      {
       "output_type": "stream",
       "stream": "stderr",
       "text": [
        "WARNING:python_subgrid.wrapper:Crest level of structure connection_17 is below bed level of adjacent cells, crest level is raised to bed level\n"
       ]
      },
      {
       "output_type": "stream",
       "stream": "stderr",
       "text": [
        "WARNING:python_subgrid.wrapper:Crest level of structure connection_17 is below bed level of adjacent cells, crest level is raised to bed level\n"
       ]
      },
      {
       "output_type": "stream",
       "stream": "stderr",
       "text": [
        "WARNING:python_subgrid.wrapper:Crest level of structure connection_17 is below bed level of adjacent cells, crest level is raised to bed level\n"
       ]
      },
      {
       "output_type": "stream",
       "stream": "stderr",
       "text": [
        "WARNING:python_subgrid.wrapper:Crest level of structure connection_17 is below bed level of adjacent cells, crest level is raised to bed level\n"
       ]
      },
      {
       "output_type": "stream",
       "stream": "stderr",
       "text": [
        "WARNING:python_subgrid.wrapper:Crest level of structure connection_17 is below bed level of adjacent cells, crest level is raised to bed level\n"
       ]
      },
      {
       "output_type": "stream",
       "stream": "stderr",
       "text": [
        "WARNING:python_subgrid.wrapper:Crest level of structure connection_17 is below bed level of adjacent cells, crest level is raised to bed level\n"
       ]
      },
      {
       "output_type": "stream",
       "stream": "stderr",
       "text": [
        "WARNING:python_subgrid.wrapper:Crest level of structure connection_17 is below bed level of adjacent cells, crest level is raised to bed level\n"
       ]
      },
      {
       "output_type": "stream",
       "stream": "stderr",
       "text": [
        "WARNING:python_subgrid.wrapper:Crest level of structure connection_17 is below bed level of adjacent cells, crest level is raised to bed level\n"
       ]
      },
      {
       "output_type": "stream",
       "stream": "stderr",
       "text": [
        "WARNING:python_subgrid.wrapper:Crest level of structure connection_17 is below bed level of adjacent cells, crest level is raised to bed level\n"
       ]
      },
      {
       "output_type": "stream",
       "stream": "stderr",
       "text": [
        "WARNING:python_subgrid.wrapper:Crest level of structure connection_17 is below bed level of adjacent cells, crest level is raised to bed level\n"
       ]
      },
      {
       "output_type": "stream",
       "stream": "stderr",
       "text": [
        "WARNING:python_subgrid.wrapper:Crest level of structure connection_17 is below bed level of adjacent cells, crest level is raised to bed level\n"
       ]
      },
      {
       "output_type": "stream",
       "stream": "stderr",
       "text": [
        "WARNING:python_subgrid.wrapper:Crest level of structure connection_17 is below bed level of adjacent cells, crest level is raised to bed level\n"
       ]
      },
      {
       "output_type": "stream",
       "stream": "stderr",
       "text": [
        "WARNING:python_subgrid.wrapper:Crest level of structure connection_17 is below bed level of adjacent cells, crest level is raised to bed level\n"
       ]
      },
      {
       "output_type": "stream",
       "stream": "stderr",
       "text": [
        "WARNING:python_subgrid.wrapper:Crest level of structure connection_18 is below bed level of adjacent cells, crest level is raised to bed level\n"
       ]
      },
      {
       "output_type": "stream",
       "stream": "stderr",
       "text": [
        "WARNING:python_subgrid.wrapper:Crest level of structure connection_18 is below bed level of adjacent cells, crest level is raised to bed level\n"
       ]
      },
      {
       "output_type": "stream",
       "stream": "stderr",
       "text": [
        "WARNING:python_subgrid.wrapper:Crest level of structure connection_18 is below bed level of adjacent cells, crest level is raised to bed level\n"
       ]
      },
      {
       "output_type": "stream",
       "stream": "stderr",
       "text": [
        "WARNING:python_subgrid.wrapper:Crest level of structure connection_18 is below bed level of adjacent cells, crest level is raised to bed level\n"
       ]
      },
      {
       "output_type": "stream",
       "stream": "stderr",
       "text": [
        "WARNING:python_subgrid.wrapper:Crest level of structure connection_18 is below bed level of adjacent cells, crest level is raised to bed level\n"
       ]
      },
      {
       "output_type": "stream",
       "stream": "stderr",
       "text": [
        "WARNING:python_subgrid.wrapper:Crest level of structure connection_18 is below bed level of adjacent cells, crest level is raised to bed level\n"
       ]
      },
      {
       "output_type": "stream",
       "stream": "stderr",
       "text": [
        "WARNING:python_subgrid.wrapper:Crest level of structure connection_18 is below bed level of adjacent cells, crest level is raised to bed level\n"
       ]
      },
      {
       "output_type": "stream",
       "stream": "stderr",
       "text": [
        "WARNING:python_subgrid.wrapper:Crest level of structure connection_18 is below bed level of adjacent cells, crest level is raised to bed level\n"
       ]
      },
      {
       "output_type": "stream",
       "stream": "stderr",
       "text": [
        "WARNING:python_subgrid.wrapper:Crest level of structure connection_18 is below bed level of adjacent cells, crest level is raised to bed level\n"
       ]
      },
      {
       "output_type": "stream",
       "stream": "stderr",
       "text": [
        "WARNING:python_subgrid.wrapper:Crest level of structure connection_18 is below bed level of adjacent cells, crest level is raised to bed level\n"
       ]
      },
      {
       "output_type": "stream",
       "stream": "stderr",
       "text": [
        "WARNING:python_subgrid.wrapper:Crest level of structure connection_18 is below bed level of adjacent cells, crest level is raised to bed level\n"
       ]
      },
      {
       "output_type": "stream",
       "stream": "stderr",
       "text": [
        "WARNING:python_subgrid.wrapper:Crest level of structure connection_19 is below bed level of adjacent cells, crest level is raised to bed level\n"
       ]
      },
      {
       "output_type": "stream",
       "stream": "stderr",
       "text": [
        "WARNING:python_subgrid.wrapper:Crest level of structure connection_19 is below bed level of adjacent cells, crest level is raised to bed level\n"
       ]
      },
      {
       "output_type": "stream",
       "stream": "stderr",
       "text": [
        "WARNING:python_subgrid.wrapper:Crest level of structure connection_19 is below bed level of adjacent cells, crest level is raised to bed level\n"
       ]
      },
      {
       "output_type": "stream",
       "stream": "stderr",
       "text": [
        "WARNING:python_subgrid.wrapper:Crest level of structure connection_19 is below bed level of adjacent cells, crest level is raised to bed level\n"
       ]
      },
      {
       "output_type": "stream",
       "stream": "stderr",
       "text": [
        "WARNING:python_subgrid.wrapper:Crest level of structure connection_19 is below bed level of adjacent cells, crest level is raised to bed level\n"
       ]
      },
      {
       "output_type": "stream",
       "stream": "stderr",
       "text": [
        "WARNING:python_subgrid.wrapper:Crest level of structure connection_19 is below bed level of adjacent cells, crest level is raised to bed level\n"
       ]
      },
      {
       "output_type": "stream",
       "stream": "stderr",
       "text": [
        "WARNING:python_subgrid.wrapper:Crest level of structure connection_19 is below bed level of adjacent cells, crest level is raised to bed level\n"
       ]
      },
      {
       "output_type": "stream",
       "stream": "stderr",
       "text": [
        "WARNING:python_subgrid.wrapper:Crest level of structure connection_19 is below bed level of adjacent cells, crest level is raised to bed level\n"
       ]
      },
      {
       "output_type": "stream",
       "stream": "stderr",
       "text": [
        "WARNING:python_subgrid.wrapper:Crest level of structure connection_19 is below bed level of adjacent cells, crest level is raised to bed level\n"
       ]
      },
      {
       "output_type": "stream",
       "stream": "stderr",
       "text": [
        "WARNING:python_subgrid.wrapper:Crest level of structure connection_19 is below bed level of adjacent cells, crest level is raised to bed level\n"
       ]
      },
      {
       "output_type": "stream",
       "stream": "stderr",
       "text": [
        "WARNING:python_subgrid.wrapper:Crest level of structure connection_20 is below bed level of adjacent cells, crest level is raised to bed level\n"
       ]
      },
      {
       "output_type": "stream",
       "stream": "stderr",
       "text": [
        "WARNING:python_subgrid.wrapper:Crest level of structure connection_20 is below bed level of adjacent cells, crest level is raised to bed level\n"
       ]
      },
      {
       "output_type": "stream",
       "stream": "stderr",
       "text": [
        "WARNING:python_subgrid.wrapper:Crest level of structure connection_20 is below bed level of adjacent cells, crest level is raised to bed level\n"
       ]
      },
      {
       "output_type": "stream",
       "stream": "stderr",
       "text": [
        "WARNING:python_subgrid.wrapper:Crest level of structure connection_20 is below bed level of adjacent cells, crest level is raised to bed level\n"
       ]
      },
      {
       "output_type": "stream",
       "stream": "stderr",
       "text": [
        "WARNING:python_subgrid.wrapper:Crest level of structure connection_20 is below bed level of adjacent cells, crest level is raised to bed level\n"
       ]
      },
      {
       "output_type": "stream",
       "stream": "stderr",
       "text": [
        "WARNING:python_subgrid.wrapper:Crest level of structure connection_20 is below bed level of adjacent cells, crest level is raised to bed level\n"
       ]
      },
      {
       "output_type": "stream",
       "stream": "stderr",
       "text": [
        "WARNING:python_subgrid.wrapper:Crest level of structure connection_20 is below bed level of adjacent cells, crest level is raised to bed level\n"
       ]
      },
      {
       "output_type": "stream",
       "stream": "stderr",
       "text": [
        "WARNING:python_subgrid.wrapper:Crest level of structure connection_20 is below bed level of adjacent cells, crest level is raised to bed level\n"
       ]
      },
      {
       "output_type": "stream",
       "stream": "stderr",
       "text": [
        "WARNING:python_subgrid.wrapper:Crest level of structure connection_20 is below bed level of adjacent cells, crest level is raised to bed level\n"
       ]
      },
      {
       "output_type": "stream",
       "stream": "stderr",
       "text": [
        "WARNING:python_subgrid.wrapper:Crest level of structure connection_20 is below bed level of adjacent cells, crest level is raised to bed level\n"
       ]
      },
      {
       "output_type": "stream",
       "stream": "stderr",
       "text": [
        "WARNING:python_subgrid.wrapper:Crest level of structure connection_20 is below bed level of adjacent cells, crest level is raised to bed level\n"
       ]
      },
      {
       "output_type": "stream",
       "stream": "stderr",
       "text": [
        "WARNING:python_subgrid.wrapper:Crest level of structure connection_21 is below bed level of adjacent cells, crest level is raised to bed level\n"
       ]
      },
      {
       "output_type": "stream",
       "stream": "stderr",
       "text": [
        "WARNING:python_subgrid.wrapper:Crest level of structure connection_21 is below bed level of adjacent cells, crest level is raised to bed level\n"
       ]
      },
      {
       "output_type": "stream",
       "stream": "stderr",
       "text": [
        "WARNING:python_subgrid.wrapper:Crest level of structure connection_21 is below bed level of adjacent cells, crest level is raised to bed level\n"
       ]
      },
      {
       "output_type": "stream",
       "stream": "stderr",
       "text": [
        "WARNING:python_subgrid.wrapper:Crest level of structure connection_21 is below bed level of adjacent cells, crest level is raised to bed level\n"
       ]
      },
      {
       "output_type": "stream",
       "stream": "stderr",
       "text": [
        "WARNING:python_subgrid.wrapper:Crest level of structure connection_21 is below bed level of adjacent cells, crest level is raised to bed level\n"
       ]
      },
      {
       "output_type": "stream",
       "stream": "stderr",
       "text": [
        "WARNING:python_subgrid.wrapper:Crest level of structure connection_21 is below bed level of adjacent cells, crest level is raised to bed level\n"
       ]
      },
      {
       "output_type": "stream",
       "stream": "stderr",
       "text": [
        "WARNING:python_subgrid.wrapper:Crest level of structure connection_21 is below bed level of adjacent cells, crest level is raised to bed level\n"
       ]
      },
      {
       "output_type": "stream",
       "stream": "stderr",
       "text": [
        "WARNING:python_subgrid.wrapper:Crest level of structure connection_21 is below bed level of adjacent cells, crest level is raised to bed level\n"
       ]
      },
      {
       "output_type": "stream",
       "stream": "stderr",
       "text": [
        "WARNING:python_subgrid.wrapper:Crest level of structure connection_21 is below bed level of adjacent cells, crest level is raised to bed level\n"
       ]
      },
      {
       "output_type": "stream",
       "stream": "stderr",
       "text": [
        "WARNING:python_subgrid.wrapper:Crest level of structure connection_21 is below bed level of adjacent cells, crest level is raised to bed level\n"
       ]
      },
      {
       "output_type": "stream",
       "stream": "stderr",
       "text": [
        "WARNING:python_subgrid.wrapper:Crest level of structure connection_21 is below bed level of adjacent cells, crest level is raised to bed level\n"
       ]
      },
      {
       "output_type": "stream",
       "stream": "stderr",
       "text": [
        "WARNING:python_subgrid.wrapper:Crest level of structure connection_21 is below bed level of adjacent cells, crest level is raised to bed level\n"
       ]
      },
      {
       "output_type": "stream",
       "stream": "stderr",
       "text": [
        "WARNING:python_subgrid.wrapper:Crest level of structure connection_21 is below bed level of adjacent cells, crest level is raised to bed level\n"
       ]
      },
      {
       "output_type": "stream",
       "stream": "stderr",
       "text": [
        "WARNING:python_subgrid.wrapper:Crest level of structure connection_21 is below bed level of adjacent cells, crest level is raised to bed level\n"
       ]
      },
      {
       "output_type": "stream",
       "stream": "stderr",
       "text": [
        "WARNING:python_subgrid.wrapper:Crest level of structure connection_22 is below bed level of adjacent cells, crest level is raised to bed level\n"
       ]
      },
      {
       "output_type": "stream",
       "stream": "stderr",
       "text": [
        "WARNING:python_subgrid.wrapper:Crest level of structure connection_22 is below bed level of adjacent cells, crest level is raised to bed level\n"
       ]
      },
      {
       "output_type": "stream",
       "stream": "stderr",
       "text": [
        "WARNING:python_subgrid.wrapper:Crest level of structure connection_22 is below bed level of adjacent cells, crest level is raised to bed level\n"
       ]
      },
      {
       "output_type": "stream",
       "stream": "stderr",
       "text": [
        "WARNING:python_subgrid.wrapper:Crest level of structure connection_22 is below bed level of adjacent cells, crest level is raised to bed level\n"
       ]
      },
      {
       "output_type": "stream",
       "stream": "stderr",
       "text": [
        "WARNING:python_subgrid.wrapper:Crest level of structure connection_22 is below bed level of adjacent cells, crest level is raised to bed level\n"
       ]
      },
      {
       "output_type": "stream",
       "stream": "stderr",
       "text": [
        "WARNING:python_subgrid.wrapper:Crest level of structure connection_22 is below bed level of adjacent cells, crest level is raised to bed level\n"
       ]
      },
      {
       "output_type": "stream",
       "stream": "stderr",
       "text": [
        "WARNING:python_subgrid.wrapper:Crest level of structure connection_22 is below bed level of adjacent cells, crest level is raised to bed level\n"
       ]
      },
      {
       "output_type": "stream",
       "stream": "stderr",
       "text": [
        "WARNING:python_subgrid.wrapper:Crest level of structure connection_22 is below bed level of adjacent cells, crest level is raised to bed level\n"
       ]
      },
      {
       "output_type": "stream",
       "stream": "stderr",
       "text": [
        "WARNING:python_subgrid.wrapper:Crest level of structure connection_22 is below bed level of adjacent cells, crest level is raised to bed level\n"
       ]
      },
      {
       "output_type": "stream",
       "stream": "stderr",
       "text": [
        "WARNING:python_subgrid.wrapper:Crest level of structure connection_22 is below bed level of adjacent cells, crest level is raised to bed level\n"
       ]
      },
      {
       "output_type": "stream",
       "stream": "stderr",
       "text": [
        "WARNING:python_subgrid.wrapper:Crest level of structure connection_22 is below bed level of adjacent cells, crest level is raised to bed level\n"
       ]
      },
      {
       "output_type": "stream",
       "stream": "stderr",
       "text": [
        "WARNING:python_subgrid.wrapper:Crest level of structure connection_22 is below bed level of adjacent cells, crest level is raised to bed level\n"
       ]
      },
      {
       "output_type": "stream",
       "stream": "stderr",
       "text": [
        "WARNING:python_subgrid.wrapper:Crest level of structure connection_22 is below bed level of adjacent cells, crest level is raised to bed level\n"
       ]
      },
      {
       "output_type": "stream",
       "stream": "stderr",
       "text": [
        "WARNING:python_subgrid.wrapper:Crest level of structure connection_22 is below bed level of adjacent cells, crest level is raised to bed level\n"
       ]
      },
      {
       "output_type": "stream",
       "stream": "stderr",
       "text": [
        "WARNING:python_subgrid.wrapper:Crest level of structure connection_23 is below bed level of adjacent cells, crest level is raised to bed level\n"
       ]
      },
      {
       "output_type": "stream",
       "stream": "stderr",
       "text": [
        "WARNING:python_subgrid.wrapper:Crest level of structure connection_23 is below bed level of adjacent cells, crest level is raised to bed level\n"
       ]
      },
      {
       "output_type": "stream",
       "stream": "stderr",
       "text": [
        "WARNING:python_subgrid.wrapper:Crest level of structure connection_23 is below bed level of adjacent cells, crest level is raised to bed level\n"
       ]
      },
      {
       "output_type": "stream",
       "stream": "stderr",
       "text": [
        "WARNING:python_subgrid.wrapper:Crest level of structure connection_23 is below bed level of adjacent cells, crest level is raised to bed level\n"
       ]
      },
      {
       "output_type": "stream",
       "stream": "stderr",
       "text": [
        "WARNING:python_subgrid.wrapper:Crest level of structure connection_23 is below bed level of adjacent cells, crest level is raised to bed level\n"
       ]
      },
      {
       "output_type": "stream",
       "stream": "stderr",
       "text": [
        "WARNING:python_subgrid.wrapper:Crest level of structure connection_23 is below bed level of adjacent cells, crest level is raised to bed level\n"
       ]
      },
      {
       "output_type": "stream",
       "stream": "stderr",
       "text": [
        "WARNING:python_subgrid.wrapper:Crest level of structure connection_23 is below bed level of adjacent cells, crest level is raised to bed level\n"
       ]
      },
      {
       "output_type": "stream",
       "stream": "stderr",
       "text": [
        "WARNING:python_subgrid.wrapper:Crest level of structure connection_23 is below bed level of adjacent cells, crest level is raised to bed level\n"
       ]
      },
      {
       "output_type": "stream",
       "stream": "stderr",
       "text": [
        "WARNING:python_subgrid.wrapper:Crest level of structure connection_23 is below bed level of adjacent cells, crest level is raised to bed level\n"
       ]
      },
      {
       "output_type": "stream",
       "stream": "stderr",
       "text": [
        "WARNING:python_subgrid.wrapper:Crest level of structure connection_23 is below bed level of adjacent cells, crest level is raised to bed level\n"
       ]
      },
      {
       "output_type": "stream",
       "stream": "stderr",
       "text": [
        "WARNING:python_subgrid.wrapper:Crest level of structure connection_23 is below bed level of adjacent cells, crest level is raised to bed level\n"
       ]
      },
      {
       "output_type": "stream",
       "stream": "stderr",
       "text": [
        "WARNING:python_subgrid.wrapper:Crest level of structure connection_23 is below bed level of adjacent cells, crest level is raised to bed level\n"
       ]
      },
      {
       "output_type": "stream",
       "stream": "stderr",
       "text": [
        "WARNING:python_subgrid.wrapper:Crest level of structure connection_23 is below bed level of adjacent cells, crest level is raised to bed level\n"
       ]
      },
      {
       "output_type": "stream",
       "stream": "stderr",
       "text": [
        "WARNING:python_subgrid.wrapper:Crest level of structure connection_24 is below bed level of adjacent cells, crest level is raised to bed level\n"
       ]
      },
      {
       "output_type": "stream",
       "stream": "stderr",
       "text": [
        "WARNING:python_subgrid.wrapper:Crest level of structure connection_24 is below bed level of adjacent cells, crest level is raised to bed level\n"
       ]
      },
      {
       "output_type": "stream",
       "stream": "stderr",
       "text": [
        "WARNING:python_subgrid.wrapper:Crest level of structure connection_24 is below bed level of adjacent cells, crest level is raised to bed level\n"
       ]
      },
      {
       "output_type": "stream",
       "stream": "stderr",
       "text": [
        "WARNING:python_subgrid.wrapper:Crest level of structure connection_24 is below bed level of adjacent cells, crest level is raised to bed level\n"
       ]
      },
      {
       "output_type": "stream",
       "stream": "stderr",
       "text": [
        "WARNING:python_subgrid.wrapper:Crest level of structure connection_24 is below bed level of adjacent cells, crest level is raised to bed level\n"
       ]
      },
      {
       "output_type": "stream",
       "stream": "stderr",
       "text": [
        "WARNING:python_subgrid.wrapper:Crest level of structure connection_24 is below bed level of adjacent cells, crest level is raised to bed level\n"
       ]
      },
      {
       "output_type": "stream",
       "stream": "stderr",
       "text": [
        "WARNING:python_subgrid.wrapper:Crest level of structure connection_24 is below bed level of adjacent cells, crest level is raised to bed level\n"
       ]
      },
      {
       "output_type": "stream",
       "stream": "stderr",
       "text": [
        "WARNING:python_subgrid.wrapper:Crest level of structure connection_24 is below bed level of adjacent cells, crest level is raised to bed level\n"
       ]
      },
      {
       "output_type": "stream",
       "stream": "stderr",
       "text": [
        "WARNING:python_subgrid.wrapper:Crest level of structure connection_24 is below bed level of adjacent cells, crest level is raised to bed level\n"
       ]
      },
      {
       "output_type": "stream",
       "stream": "stderr",
       "text": [
        "WARNING:python_subgrid.wrapper:Crest level of structure connection_24 is below bed level of adjacent cells, crest level is raised to bed level\n"
       ]
      },
      {
       "output_type": "stream",
       "stream": "stderr",
       "text": [
        "WARNING:python_subgrid.wrapper:Crest level of structure connection_24 is below bed level of adjacent cells, crest level is raised to bed level\n"
       ]
      },
      {
       "output_type": "stream",
       "stream": "stderr",
       "text": [
        "WARNING:python_subgrid.wrapper:Crest level of structure connection_24 is below bed level of adjacent cells, crest level is raised to bed level\n"
       ]
      },
      {
       "output_type": "stream",
       "stream": "stderr",
       "text": [
        "WARNING:python_subgrid.wrapper:Crest level of structure connection_24 is below bed level of adjacent cells, crest level is raised to bed level\n"
       ]
      },
      {
       "output_type": "stream",
       "stream": "stderr",
       "text": [
        "WARNING:python_subgrid.wrapper:Crest level of structure connection_25 is below bed level of adjacent cells, crest level is raised to bed level\n"
       ]
      },
      {
       "output_type": "stream",
       "stream": "stderr",
       "text": [
        "WARNING:python_subgrid.wrapper:Crest level of structure connection_25 is below bed level of adjacent cells, crest level is raised to bed level\n"
       ]
      },
      {
       "output_type": "stream",
       "stream": "stderr",
       "text": [
        "WARNING:python_subgrid.wrapper:Crest level of structure connection_25 is below bed level of adjacent cells, crest level is raised to bed level\n"
       ]
      },
      {
       "output_type": "stream",
       "stream": "stderr",
       "text": [
        "WARNING:python_subgrid.wrapper:Crest level of structure connection_25 is below bed level of adjacent cells, crest level is raised to bed level\n"
       ]
      },
      {
       "output_type": "stream",
       "stream": "stderr",
       "text": [
        "WARNING:python_subgrid.wrapper:Crest level of structure connection_25 is below bed level of adjacent cells, crest level is raised to bed level\n"
       ]
      },
      {
       "output_type": "stream",
       "stream": "stderr",
       "text": [
        "WARNING:python_subgrid.wrapper:Crest level of structure connection_25 is below bed level of adjacent cells, crest level is raised to bed level\n"
       ]
      },
      {
       "output_type": "stream",
       "stream": "stderr",
       "text": [
        "WARNING:python_subgrid.wrapper:Crest level of structure connection_25 is below bed level of adjacent cells, crest level is raised to bed level\n"
       ]
      },
      {
       "output_type": "stream",
       "stream": "stderr",
       "text": [
        "WARNING:python_subgrid.wrapper:Crest level of structure connection_25 is below bed level of adjacent cells, crest level is raised to bed level\n"
       ]
      },
      {
       "output_type": "stream",
       "stream": "stderr",
       "text": [
        "WARNING:python_subgrid.wrapper:Crest level of structure connection_25 is below bed level of adjacent cells, crest level is raised to bed level\n"
       ]
      },
      {
       "output_type": "stream",
       "stream": "stderr",
       "text": [
        "WARNING:python_subgrid.wrapper:Crest level of structure connection_25 is below bed level of adjacent cells, crest level is raised to bed level\n"
       ]
      },
      {
       "output_type": "stream",
       "stream": "stderr",
       "text": [
        "WARNING:python_subgrid.wrapper:Crest level of structure connection_25 is below bed level of adjacent cells, crest level is raised to bed level\n"
       ]
      },
      {
       "output_type": "stream",
       "stream": "stderr",
       "text": [
        "WARNING:python_subgrid.wrapper:Crest level of structure connection_26 is below bed level of adjacent cells, crest level is raised to bed level\n"
       ]
      },
      {
       "output_type": "stream",
       "stream": "stderr",
       "text": [
        "WARNING:python_subgrid.wrapper:Crest level of structure connection_26 is below bed level of adjacent cells, crest level is raised to bed level\n"
       ]
      },
      {
       "output_type": "stream",
       "stream": "stderr",
       "text": [
        "WARNING:python_subgrid.wrapper:Crest level of structure connection_26 is below bed level of adjacent cells, crest level is raised to bed level\n"
       ]
      },
      {
       "output_type": "stream",
       "stream": "stderr",
       "text": [
        "WARNING:python_subgrid.wrapper:Crest level of structure connection_26 is below bed level of adjacent cells, crest level is raised to bed level\n"
       ]
      },
      {
       "output_type": "stream",
       "stream": "stderr",
       "text": [
        "WARNING:python_subgrid.wrapper:Crest level of structure connection_26 is below bed level of adjacent cells, crest level is raised to bed level\n"
       ]
      },
      {
       "output_type": "stream",
       "stream": "stderr",
       "text": [
        "WARNING:python_subgrid.wrapper:Crest level of structure connection_26 is below bed level of adjacent cells, crest level is raised to bed level\n"
       ]
      },
      {
       "output_type": "stream",
       "stream": "stderr",
       "text": [
        "WARNING:python_subgrid.wrapper:Crest level of structure connection_26 is below bed level of adjacent cells, crest level is raised to bed level\n"
       ]
      },
      {
       "output_type": "stream",
       "stream": "stderr",
       "text": [
        "WARNING:python_subgrid.wrapper:Crest level of structure connection_27 is below bed level of adjacent cells, crest level is raised to bed level\n"
       ]
      },
      {
       "output_type": "stream",
       "stream": "stderr",
       "text": [
        "WARNING:python_subgrid.wrapper:Crest level of structure connection_27 is below bed level of adjacent cells, crest level is raised to bed level\n"
       ]
      },
      {
       "output_type": "stream",
       "stream": "stderr",
       "text": [
        "WARNING:python_subgrid.wrapper:Crest level of structure connection_27 is below bed level of adjacent cells, crest level is raised to bed level\n"
       ]
      },
      {
       "output_type": "stream",
       "stream": "stderr",
       "text": [
        "WARNING:python_subgrid.wrapper:Crest level of structure connection_27 is below bed level of adjacent cells, crest level is raised to bed level\n"
       ]
      },
      {
       "output_type": "stream",
       "stream": "stderr",
       "text": [
        "WARNING:python_subgrid.wrapper:Crest level of structure connection_27 is below bed level of adjacent cells, crest level is raised to bed level\n"
       ]
      },
      {
       "output_type": "stream",
       "stream": "stderr",
       "text": [
        "WARNING:python_subgrid.wrapper:Crest level of structure connection_27 is below bed level of adjacent cells, crest level is raised to bed level\n"
       ]
      },
      {
       "output_type": "stream",
       "stream": "stderr",
       "text": [
        "WARNING:python_subgrid.wrapper:Crest level of structure connection_27 is below bed level of adjacent cells, crest level is raised to bed level\n"
       ]
      },
      {
       "output_type": "stream",
       "stream": "stderr",
       "text": [
        "WARNING:python_subgrid.wrapper:Crest level of structure connection_27 is below bed level of adjacent cells, crest level is raised to bed level\n"
       ]
      },
      {
       "output_type": "stream",
       "stream": "stderr",
       "text": [
        "WARNING:python_subgrid.wrapper:Crest level of structure connection_27 is below bed level of adjacent cells, crest level is raised to bed level\n"
       ]
      },
      {
       "output_type": "stream",
       "stream": "stderr",
       "text": [
        "WARNING:python_subgrid.wrapper:Crest level of structure connection_28 is below bed level of adjacent cells, crest level is raised to bed level\n"
       ]
      },
      {
       "output_type": "stream",
       "stream": "stderr",
       "text": [
        "WARNING:python_subgrid.wrapper:Crest level of structure connection_28 is below bed level of adjacent cells, crest level is raised to bed level\n"
       ]
      },
      {
       "output_type": "stream",
       "stream": "stderr",
       "text": [
        "WARNING:python_subgrid.wrapper:Crest level of structure connection_28 is below bed level of adjacent cells, crest level is raised to bed level\n"
       ]
      },
      {
       "output_type": "stream",
       "stream": "stderr",
       "text": [
        "WARNING:python_subgrid.wrapper:Crest level of structure connection_28 is below bed level of adjacent cells, crest level is raised to bed level\n"
       ]
      },
      {
       "output_type": "stream",
       "stream": "stderr",
       "text": [
        "WARNING:python_subgrid.wrapper:Crest level of structure connection_28 is below bed level of adjacent cells, crest level is raised to bed level\n"
       ]
      },
      {
       "output_type": "stream",
       "stream": "stderr",
       "text": [
        "WARNING:python_subgrid.wrapper:Crest level of structure connection_28 is below bed level of adjacent cells, crest level is raised to bed level\n"
       ]
      },
      {
       "output_type": "stream",
       "stream": "stderr",
       "text": [
        "WARNING:python_subgrid.wrapper:Crest level of structure connection_28 is below bed level of adjacent cells, crest level is raised to bed level\n"
       ]
      },
      {
       "output_type": "stream",
       "stream": "stderr",
       "text": [
        "WARNING:python_subgrid.wrapper:Crest level of structure connection_28 is below bed level of adjacent cells, crest level is raised to bed level\n"
       ]
      },
      {
       "output_type": "stream",
       "stream": "stderr",
       "text": [
        "WARNING:python_subgrid.wrapper:Crest level of structure connection_28 is below bed level of adjacent cells, crest level is raised to bed level\n"
       ]
      },
      {
       "output_type": "stream",
       "stream": "stderr",
       "text": [
        "WARNING:python_subgrid.wrapper:Crest level of structure connection_29 is below bed level of adjacent cells, crest level is raised to bed level\n"
       ]
      },
      {
       "output_type": "stream",
       "stream": "stderr",
       "text": [
        "WARNING:python_subgrid.wrapper:Crest level of structure connection_29 is below bed level of adjacent cells, crest level is raised to bed level\n"
       ]
      },
      {
       "output_type": "stream",
       "stream": "stderr",
       "text": [
        "WARNING:python_subgrid.wrapper:Crest level of structure connection_29 is below bed level of adjacent cells, crest level is raised to bed level\n"
       ]
      },
      {
       "output_type": "stream",
       "stream": "stderr",
       "text": [
        "WARNING:python_subgrid.wrapper:Crest level of structure connection_29 is below bed level of adjacent cells, crest level is raised to bed level\n"
       ]
      },
      {
       "output_type": "stream",
       "stream": "stderr",
       "text": [
        "WARNING:python_subgrid.wrapper:Crest level of structure connection_29 is below bed level of adjacent cells, crest level is raised to bed level\n"
       ]
      },
      {
       "output_type": "stream",
       "stream": "stderr",
       "text": [
        "WARNING:python_subgrid.wrapper:Crest level of structure connection_29 is below bed level of adjacent cells, crest level is raised to bed level\n"
       ]
      },
      {
       "output_type": "stream",
       "stream": "stderr",
       "text": [
        "WARNING:python_subgrid.wrapper:Crest level of structure connection_29 is below bed level of adjacent cells, crest level is raised to bed level\n"
       ]
      },
      {
       "output_type": "stream",
       "stream": "stderr",
       "text": [
        "WARNING:python_subgrid.wrapper:Crest level of structure connection_29 is below bed level of adjacent cells, crest level is raised to bed level\n"
       ]
      },
      {
       "output_type": "stream",
       "stream": "stderr",
       "text": [
        "WARNING:python_subgrid.wrapper:Crest level of structure connection_29 is below bed level of adjacent cells, crest level is raised to bed level\n"
       ]
      },
      {
       "output_type": "stream",
       "stream": "stderr",
       "text": [
        "WARNING:python_subgrid.wrapper:Crest level of structure connection_30 is below bed level of adjacent cells, crest level is raised to bed level\n"
       ]
      },
      {
       "output_type": "stream",
       "stream": "stderr",
       "text": [
        "WARNING:python_subgrid.wrapper:Crest level of structure connection_30 is below bed level of adjacent cells, crest level is raised to bed level\n"
       ]
      },
      {
       "output_type": "stream",
       "stream": "stderr",
       "text": [
        "WARNING:python_subgrid.wrapper:Crest level of structure connection_30 is below bed level of adjacent cells, crest level is raised to bed level\n"
       ]
      },
      {
       "output_type": "stream",
       "stream": "stderr",
       "text": [
        "WARNING:python_subgrid.wrapper:Crest level of structure connection_30 is below bed level of adjacent cells, crest level is raised to bed level\n"
       ]
      },
      {
       "output_type": "stream",
       "stream": "stderr",
       "text": [
        "WARNING:python_subgrid.wrapper:Crest level of structure connection_30 is below bed level of adjacent cells, crest level is raised to bed level\n"
       ]
      },
      {
       "output_type": "stream",
       "stream": "stderr",
       "text": [
        "WARNING:python_subgrid.wrapper:Crest level of structure connection_30 is below bed level of adjacent cells, crest level is raised to bed level\n"
       ]
      },
      {
       "output_type": "stream",
       "stream": "stderr",
       "text": [
        "WARNING:python_subgrid.wrapper:Crest level of structure connection_30 is below bed level of adjacent cells, crest level is raised to bed level\n"
       ]
      },
      {
       "output_type": "stream",
       "stream": "stderr",
       "text": [
        "WARNING:python_subgrid.wrapper:Crest level of structure connection_30 is below bed level of adjacent cells, crest level is raised to bed level\n"
       ]
      },
      {
       "output_type": "stream",
       "stream": "stderr",
       "text": [
        "WARNING:python_subgrid.wrapper:Crest level of structure connection_30 is below bed level of adjacent cells, crest level is raised to bed level\n"
       ]
      },
      {
       "output_type": "stream",
       "stream": "stderr",
       "text": [
        "WARNING:python_subgrid.wrapper:Crest level of structure connection_30 is below bed level of adjacent cells, crest level is raised to bed level\n"
       ]
      },
      {
       "output_type": "stream",
       "stream": "stderr",
       "text": [
        "WARNING:python_subgrid.wrapper:Crest level of structure connection_31 is below bed level of adjacent cells, crest level is raised to bed level\n"
       ]
      },
      {
       "output_type": "stream",
       "stream": "stderr",
       "text": [
        "WARNING:python_subgrid.wrapper:Crest level of structure connection_31 is below bed level of adjacent cells, crest level is raised to bed level\n"
       ]
      },
      {
       "output_type": "stream",
       "stream": "stderr",
       "text": [
        "WARNING:python_subgrid.wrapper:Crest level of structure connection_31 is below bed level of adjacent cells, crest level is raised to bed level\n"
       ]
      },
      {
       "output_type": "stream",
       "stream": "stderr",
       "text": [
        "WARNING:python_subgrid.wrapper:Crest level of structure connection_31 is below bed level of adjacent cells, crest level is raised to bed level\n"
       ]
      },
      {
       "output_type": "stream",
       "stream": "stderr",
       "text": [
        "WARNING:python_subgrid.wrapper:Crest level of structure connection_31 is below bed level of adjacent cells, crest level is raised to bed level\n"
       ]
      },
      {
       "output_type": "stream",
       "stream": "stderr",
       "text": [
        "WARNING:python_subgrid.wrapper:Crest level of structure connection_31 is below bed level of adjacent cells, crest level is raised to bed level\n"
       ]
      },
      {
       "output_type": "stream",
       "stream": "stderr",
       "text": [
        "WARNING:python_subgrid.wrapper:Crest level of structure connection_31 is below bed level of adjacent cells, crest level is raised to bed level\n"
       ]
      },
      {
       "output_type": "stream",
       "stream": "stderr",
       "text": [
        "WARNING:python_subgrid.wrapper:Crest level of structure connection_31 is below bed level of adjacent cells, crest level is raised to bed level\n"
       ]
      },
      {
       "output_type": "stream",
       "stream": "stderr",
       "text": [
        "WARNING:python_subgrid.wrapper:Crest level of structure connection_32 is below bed level of adjacent cells, crest level is raised to bed level\n"
       ]
      },
      {
       "output_type": "stream",
       "stream": "stderr",
       "text": [
        "WARNING:python_subgrid.wrapper:Crest level of structure connection_32 is below bed level of adjacent cells, crest level is raised to bed level\n"
       ]
      },
      {
       "output_type": "stream",
       "stream": "stderr",
       "text": [
        "WARNING:python_subgrid.wrapper:Crest level of structure connection_32 is below bed level of adjacent cells, crest level is raised to bed level\n"
       ]
      },
      {
       "output_type": "stream",
       "stream": "stderr",
       "text": [
        "WARNING:python_subgrid.wrapper:Crest level of structure connection_32 is below bed level of adjacent cells, crest level is raised to bed level\n"
       ]
      },
      {
       "output_type": "stream",
       "stream": "stderr",
       "text": [
        "WARNING:python_subgrid.wrapper:Crest level of structure connection_33 is below bed level of adjacent cells, crest level is raised to bed level\n"
       ]
      },
      {
       "output_type": "stream",
       "stream": "stderr",
       "text": [
        "WARNING:python_subgrid.wrapper:Crest level of structure connection_33 is below bed level of adjacent cells, crest level is raised to bed level\n"
       ]
      },
      {
       "output_type": "stream",
       "stream": "stderr",
       "text": [
        "WARNING:python_subgrid.wrapper:Crest level of structure connection_33 is below bed level of adjacent cells, crest level is raised to bed level\n"
       ]
      },
      {
       "output_type": "stream",
       "stream": "stderr",
       "text": [
        "WARNING:python_subgrid.wrapper:Crest level of structure connection_33 is below bed level of adjacent cells, crest level is raised to bed level\n"
       ]
      },
      {
       "output_type": "stream",
       "stream": "stderr",
       "text": [
        "WARNING:python_subgrid.wrapper:Crest level of structure connection_33 is below bed level of adjacent cells, crest level is raised to bed level\n"
       ]
      },
      {
       "output_type": "stream",
       "stream": "stderr",
       "text": [
        "WARNING:python_subgrid.wrapper:Crest level of structure connection_34 is below bed level of adjacent cells, crest level is raised to bed level\n"
       ]
      },
      {
       "output_type": "stream",
       "stream": "stderr",
       "text": [
        "WARNING:python_subgrid.wrapper:Crest level of structure connection_34 is below bed level of adjacent cells, crest level is raised to bed level\n"
       ]
      },
      {
       "output_type": "stream",
       "stream": "stderr",
       "text": [
        "WARNING:python_subgrid.wrapper:Crest level of structure connection_34 is below bed level of adjacent cells, crest level is raised to bed level\n"
       ]
      },
      {
       "output_type": "stream",
       "stream": "stderr",
       "text": [
        "WARNING:python_subgrid.wrapper:Crest level of structure connection_34 is below bed level of adjacent cells, crest level is raised to bed level\n"
       ]
      },
      {
       "output_type": "stream",
       "stream": "stderr",
       "text": [
        "WARNING:python_subgrid.wrapper:Crest level of structure connection_34 is below bed level of adjacent cells, crest level is raised to bed level\n"
       ]
      },
      {
       "output_type": "stream",
       "stream": "stderr",
       "text": [
        "WARNING:python_subgrid.wrapper:Crest level of structure connection_35 is below bed level of adjacent cells, crest level is raised to bed level\n"
       ]
      },
      {
       "output_type": "stream",
       "stream": "stderr",
       "text": [
        "WARNING:python_subgrid.wrapper:Crest level of structure connection_35 is below bed level of adjacent cells, crest level is raised to bed level\n"
       ]
      },
      {
       "output_type": "stream",
       "stream": "stderr",
       "text": [
        "WARNING:python_subgrid.wrapper:Crest level of structure connection_35 is below bed level of adjacent cells, crest level is raised to bed level\n"
       ]
      },
      {
       "output_type": "stream",
       "stream": "stderr",
       "text": [
        "WARNING:python_subgrid.wrapper:Crest level of structure connection_35 is below bed level of adjacent cells, crest level is raised to bed level\n"
       ]
      },
      {
       "output_type": "stream",
       "stream": "stderr",
       "text": [
        "WARNING:python_subgrid.wrapper:Crest level of structure connection_35 is below bed level of adjacent cells, crest level is raised to bed level\n"
       ]
      },
      {
       "output_type": "stream",
       "stream": "stderr",
       "text": [
        "WARNING:python_subgrid.wrapper:Crest level of structure connection_36 is below bed level of adjacent cells, crest level is raised to bed level\n"
       ]
      },
      {
       "output_type": "stream",
       "stream": "stderr",
       "text": [
        "WARNING:python_subgrid.wrapper:Crest level of structure connection_36 is below bed level of adjacent cells, crest level is raised to bed level\n"
       ]
      },
      {
       "output_type": "stream",
       "stream": "stderr",
       "text": [
        "WARNING:python_subgrid.wrapper:Crest level of structure connection_36 is below bed level of adjacent cells, crest level is raised to bed level\n"
       ]
      },
      {
       "output_type": "stream",
       "stream": "stderr",
       "text": [
        "WARNING:python_subgrid.wrapper:Crest level of structure connection_36 is below bed level of adjacent cells, crest level is raised to bed level\n"
       ]
      },
      {
       "output_type": "stream",
       "stream": "stderr",
       "text": [
        "WARNING:python_subgrid.wrapper:Crest level of structure connection_36 is below bed level of adjacent cells, crest level is raised to bed level\n"
       ]
      },
      {
       "output_type": "stream",
       "stream": "stderr",
       "text": [
        "WARNING:python_subgrid.wrapper:Crest level of structure connection_36 is below bed level of adjacent cells, crest level is raised to bed level\n"
       ]
      },
      {
       "output_type": "stream",
       "stream": "stderr",
       "text": [
        "WARNING:python_subgrid.wrapper:Crest level of structure connection_36 is below bed level of adjacent cells, crest level is raised to bed level\n"
       ]
      },
      {
       "output_type": "stream",
       "stream": "stderr",
       "text": [
        "WARNING:python_subgrid.wrapper:Crest level of structure connection_36 is below bed level of adjacent cells, crest level is raised to bed level\n"
       ]
      },
      {
       "output_type": "stream",
       "stream": "stderr",
       "text": [
        "WARNING:python_subgrid.wrapper:Crest level of structure connection_36 is below bed level of adjacent cells, crest level is raised to bed level\n"
       ]
      },
      {
       "output_type": "stream",
       "stream": "stderr",
       "text": [
        "WARNING:python_subgrid.wrapper:Crest level of structure connection_37 is below bed level of adjacent cells, crest level is raised to bed level\n"
       ]
      },
      {
       "output_type": "stream",
       "stream": "stderr",
       "text": [
        "WARNING:python_subgrid.wrapper:Crest level of structure connection_37 is below bed level of adjacent cells, crest level is raised to bed level\n"
       ]
      },
      {
       "output_type": "stream",
       "stream": "stderr",
       "text": [
        "WARNING:python_subgrid.wrapper:Crest level of structure connection_38 is below bed level of adjacent cells, crest level is raised to bed level\n"
       ]
      },
      {
       "output_type": "stream",
       "stream": "stderr",
       "text": [
        "WARNING:python_subgrid.wrapper:Crest level of structure connection_38 is below bed level of adjacent cells, crest level is raised to bed level\n"
       ]
      },
      {
       "output_type": "stream",
       "stream": "stderr",
       "text": [
        "WARNING:python_subgrid.wrapper:Crest level of structure connection_38 is below bed level of adjacent cells, crest level is raised to bed level\n"
       ]
      },
      {
       "output_type": "stream",
       "stream": "stderr",
       "text": [
        "WARNING:python_subgrid.wrapper:Crest level of structure connection_38 is below bed level of adjacent cells, crest level is raised to bed level\n"
       ]
      },
      {
       "output_type": "stream",
       "stream": "stderr",
       "text": [
        "WARNING:python_subgrid.wrapper:Crest level of structure connection_38 is below bed level of adjacent cells, crest level is raised to bed level\n"
       ]
      },
      {
       "output_type": "stream",
       "stream": "stderr",
       "text": [
        "WARNING:python_subgrid.wrapper:Crest level of structure connection_38 is below bed level of adjacent cells, crest level is raised to bed level\n"
       ]
      },
      {
       "output_type": "stream",
       "stream": "stderr",
       "text": [
        "WARNING:python_subgrid.wrapper:Crest level of structure connection_38 is below bed level of adjacent cells, crest level is raised to bed level\n"
       ]
      },
      {
       "output_type": "stream",
       "stream": "stderr",
       "text": [
        "WARNING:python_subgrid.wrapper:Crest level of structure connection_38 is below bed level of adjacent cells, crest level is raised to bed level\n"
       ]
      },
      {
       "output_type": "stream",
       "stream": "stderr",
       "text": [
        "WARNING:python_subgrid.wrapper:Crest level of structure connection_38 is below bed level of adjacent cells, crest level is raised to bed level\n"
       ]
      },
      {
       "output_type": "stream",
       "stream": "stderr",
       "text": [
        "WARNING:python_subgrid.wrapper:Crest level of structure connection_39 is below bed level of adjacent cells, crest level is raised to bed level\n"
       ]
      },
      {
       "output_type": "stream",
       "stream": "stderr",
       "text": [
        "WARNING:python_subgrid.wrapper:Crest level of structure connection_39 is below bed level of adjacent cells, crest level is raised to bed level\n"
       ]
      },
      {
       "output_type": "stream",
       "stream": "stderr",
       "text": [
        "WARNING:python_subgrid.wrapper:Crest level of structure connection_39 is below bed level of adjacent cells, crest level is raised to bed level\n"
       ]
      },
      {
       "output_type": "stream",
       "stream": "stderr",
       "text": [
        "WARNING:python_subgrid.wrapper:Crest level of structure connection_39 is below bed level of adjacent cells, crest level is raised to bed level\n"
       ]
      },
      {
       "output_type": "stream",
       "stream": "stderr",
       "text": [
        "WARNING:python_subgrid.wrapper:Crest level of structure connection_39 is below bed level of adjacent cells, crest level is raised to bed level\n"
       ]
      },
      {
       "output_type": "stream",
       "stream": "stderr",
       "text": [
        "WARNING:python_subgrid.wrapper:Crest level of structure connection_39 is below bed level of adjacent cells, crest level is raised to bed level\n"
       ]
      },
      {
       "output_type": "stream",
       "stream": "stderr",
       "text": [
        "WARNING:python_subgrid.wrapper:Crest level of structure connection_39 is below bed level of adjacent cells, crest level is raised to bed level\n"
       ]
      },
      {
       "output_type": "stream",
       "stream": "stderr",
       "text": [
        "WARNING:python_subgrid.wrapper:Crest level of structure connection_39 is below bed level of adjacent cells, crest level is raised to bed level\n"
       ]
      },
      {
       "output_type": "stream",
       "stream": "stderr",
       "text": [
        "WARNING:python_subgrid.wrapper:Crest level of structure connection_39 is below bed level of adjacent cells, crest level is raised to bed level\n"
       ]
      },
      {
       "output_type": "stream",
       "stream": "stderr",
       "text": [
        "WARNING:python_subgrid.wrapper:Crest level of structure connection_39 is below bed level of adjacent cells, crest level is raised to bed level\n"
       ]
      },
      {
       "output_type": "stream",
       "stream": "stderr",
       "text": [
        "WARNING:python_subgrid.wrapper:Crest level of structure connection_39 is below bed level of adjacent cells, crest level is raised to bed level\n"
       ]
      },
      {
       "output_type": "stream",
       "stream": "stderr",
       "text": [
        "WARNING:python_subgrid.wrapper:Crest level of structure connection_39 is below bed level of adjacent cells, crest level is raised to bed level\n"
       ]
      },
      {
       "output_type": "stream",
       "stream": "stderr",
       "text": [
        "WARNING:python_subgrid.wrapper:Crest level of structure connection_39 is below bed level of adjacent cells, crest level is raised to bed level\n"
       ]
      },
      {
       "output_type": "stream",
       "stream": "stderr",
       "text": [
        "WARNING:python_subgrid.wrapper:Crest level of structure connection_39 is below bed level of adjacent cells, crest level is raised to bed level\n"
       ]
      },
      {
       "output_type": "stream",
       "stream": "stderr",
       "text": [
        "WARNING:python_subgrid.wrapper:Crest level of structure connection_39 is below bed level of adjacent cells, crest level is raised to bed level\n"
       ]
      },
      {
       "output_type": "stream",
       "stream": "stderr",
       "text": [
        "WARNING:python_subgrid.wrapper:Crest level of structure connection_40 is below bed level of adjacent cells, crest level is raised to bed level\n"
       ]
      },
      {
       "output_type": "stream",
       "stream": "stderr",
       "text": [
        "WARNING:python_subgrid.wrapper:Crest level of structure connection_40 is below bed level of adjacent cells, crest level is raised to bed level\n"
       ]
      },
      {
       "output_type": "stream",
       "stream": "stderr",
       "text": [
        "WARNING:python_subgrid.wrapper:Crest level of structure connection_40 is below bed level of adjacent cells, crest level is raised to bed level\n"
       ]
      },
      {
       "output_type": "stream",
       "stream": "stderr",
       "text": [
        "WARNING:python_subgrid.wrapper:Crest level of structure connection_40 is below bed level of adjacent cells, crest level is raised to bed level\n"
       ]
      },
      {
       "output_type": "stream",
       "stream": "stderr",
       "text": [
        "WARNING:python_subgrid.wrapper:Crest level of structure connection_40 is below bed level of adjacent cells, crest level is raised to bed level\n"
       ]
      },
      {
       "output_type": "stream",
       "stream": "stderr",
       "text": [
        "WARNING:python_subgrid.wrapper:Crest level of structure connection_40 is below bed level of adjacent cells, crest level is raised to bed level\n"
       ]
      },
      {
       "output_type": "stream",
       "stream": "stderr",
       "text": [
        "WARNING:python_subgrid.wrapper:Crest level of structure connection_40 is below bed level of adjacent cells, crest level is raised to bed level\n"
       ]
      },
      {
       "output_type": "stream",
       "stream": "stderr",
       "text": [
        "WARNING:python_subgrid.wrapper:Crest level of structure connection_40 is below bed level of adjacent cells, crest level is raised to bed level\n"
       ]
      },
      {
       "output_type": "stream",
       "stream": "stderr",
       "text": [
        "WARNING:python_subgrid.wrapper:Crest level of structure connection_40 is below bed level of adjacent cells, crest level is raised to bed level\n"
       ]
      },
      {
       "output_type": "stream",
       "stream": "stderr",
       "text": [
        "WARNING:python_subgrid.wrapper:Crest level of structure connection_40 is below bed level of adjacent cells, crest level is raised to bed level\n"
       ]
      },
      {
       "output_type": "stream",
       "stream": "stderr",
       "text": [
        "WARNING:python_subgrid.wrapper:Crest level of structure connection_40 is below bed level of adjacent cells, crest level is raised to bed level\n"
       ]
      },
      {
       "output_type": "stream",
       "stream": "stderr",
       "text": [
        "WARNING:python_subgrid.wrapper:Crest level of structure connection_40 is below bed level of adjacent cells, crest level is raised to bed level\n"
       ]
      },
      {
       "output_type": "stream",
       "stream": "stderr",
       "text": [
        "WARNING:python_subgrid.wrapper:Crest level of structure connection_41 is below bed level of adjacent cells, crest level is raised to bed level\n"
       ]
      },
      {
       "output_type": "stream",
       "stream": "stderr",
       "text": [
        "WARNING:python_subgrid.wrapper:Crest level of structure connection_41 is below bed level of adjacent cells, crest level is raised to bed level\n"
       ]
      },
      {
       "output_type": "stream",
       "stream": "stderr",
       "text": [
        "WARNING:python_subgrid.wrapper:Crest level of structure connection_41 is below bed level of adjacent cells, crest level is raised to bed level\n"
       ]
      },
      {
       "output_type": "stream",
       "stream": "stderr",
       "text": [
        "WARNING:python_subgrid.wrapper:Crest level of structure connection_41 is below bed level of adjacent cells, crest level is raised to bed level\n"
       ]
      },
      {
       "output_type": "stream",
       "stream": "stderr",
       "text": [
        "WARNING:python_subgrid.wrapper:Crest level of structure connection_41 is below bed level of adjacent cells, crest level is raised to bed level\n"
       ]
      },
      {
       "output_type": "stream",
       "stream": "stderr",
       "text": [
        "WARNING:python_subgrid.wrapper:Crest level of structure connection_41 is below bed level of adjacent cells, crest level is raised to bed level\n"
       ]
      },
      {
       "output_type": "stream",
       "stream": "stderr",
       "text": [
        "WARNING:python_subgrid.wrapper:Crest level of structure connection_41 is below bed level of adjacent cells, crest level is raised to bed level\n"
       ]
      },
      {
       "output_type": "stream",
       "stream": "stderr",
       "text": [
        "WARNING:python_subgrid.wrapper:Crest level of structure connection_41 is below bed level of adjacent cells, crest level is raised to bed level\n"
       ]
      },
      {
       "output_type": "stream",
       "stream": "stderr",
       "text": [
        "WARNING:python_subgrid.wrapper:Crest level of structure connection_41 is below bed level of adjacent cells, crest level is raised to bed level\n"
       ]
      },
      {
       "output_type": "stream",
       "stream": "stderr",
       "text": [
        "WARNING:python_subgrid.wrapper:Crest level of structure connection_41 is below bed level of adjacent cells, crest level is raised to bed level\n"
       ]
      },
      {
       "output_type": "stream",
       "stream": "stderr",
       "text": [
        "WARNING:python_subgrid.wrapper:Crest level of structure connection_41 is below bed level of adjacent cells, crest level is raised to bed level\n"
       ]
      },
      {
       "output_type": "stream",
       "stream": "stderr",
       "text": [
        "WARNING:python_subgrid.wrapper:Crest level of structure connection_41 is below bed level of adjacent cells, crest level is raised to bed level\n"
       ]
      },
      {
       "output_type": "stream",
       "stream": "stderr",
       "text": [
        "WARNING:python_subgrid.wrapper:Crest level of structure connection_44 is below bed level of adjacent cells, crest level is raised to bed level\n"
       ]
      },
      {
       "output_type": "stream",
       "stream": "stderr",
       "text": [
        "WARNING:python_subgrid.wrapper:Crest level of structure connection_44 is below bed level of adjacent cells, crest level is raised to bed level\n"
       ]
      },
      {
       "output_type": "stream",
       "stream": "stderr",
       "text": [
        "WARNING:python_subgrid.wrapper:Crest level of structure connection_44 is below bed level of adjacent cells, crest level is raised to bed level\n"
       ]
      },
      {
       "output_type": "stream",
       "stream": "stderr",
       "text": [
        "WARNING:python_subgrid.wrapper:Crest level of structure connection_44 is below bed level of adjacent cells, crest level is raised to bed level\n"
       ]
      },
      {
       "output_type": "stream",
       "stream": "stderr",
       "text": [
        "WARNING:python_subgrid.wrapper:Crest level of structure connection_44 is below bed level of adjacent cells, crest level is raised to bed level\n"
       ]
      },
      {
       "output_type": "stream",
       "stream": "stderr",
       "text": [
        "WARNING:python_subgrid.wrapper:Crest level of structure connection_44 is below bed level of adjacent cells, crest level is raised to bed level\n"
       ]
      },
      {
       "output_type": "stream",
       "stream": "stderr",
       "text": [
        "WARNING:python_subgrid.wrapper:Crest level of structure connection_44 is below bed level of adjacent cells, crest level is raised to bed level\n"
       ]
      },
      {
       "output_type": "stream",
       "stream": "stderr",
       "text": [
        "WARNING:python_subgrid.wrapper:Crest level of structure connection_44 is below bed level of adjacent cells, crest level is raised to bed level\n"
       ]
      },
      {
       "output_type": "stream",
       "stream": "stderr",
       "text": [
        "WARNING:python_subgrid.wrapper:Crest level of structure connection_45 is below bed level of adjacent cells, crest level is raised to bed level\n"
       ]
      },
      {
       "output_type": "stream",
       "stream": "stderr",
       "text": [
        "WARNING:python_subgrid.wrapper:Crest level of structure connection_45 is below bed level of adjacent cells, crest level is raised to bed level\n"
       ]
      },
      {
       "output_type": "stream",
       "stream": "stderr",
       "text": [
        "WARNING:python_subgrid.wrapper:Crest level of structure connection_45 is below bed level of adjacent cells, crest level is raised to bed level\n"
       ]
      },
      {
       "output_type": "stream",
       "stream": "stderr",
       "text": [
        "WARNING:python_subgrid.wrapper:Crest level of structure connection_45 is below bed level of adjacent cells, crest level is raised to bed level\n"
       ]
      },
      {
       "output_type": "stream",
       "stream": "stderr",
       "text": [
        "WARNING:python_subgrid.wrapper:Crest level of structure connection_45 is below bed level of adjacent cells, crest level is raised to bed level\n"
       ]
      },
      {
       "output_type": "stream",
       "stream": "stderr",
       "text": [
        "WARNING:python_subgrid.wrapper:Crest level of structure connection_45 is below bed level of adjacent cells, crest level is raised to bed level\n"
       ]
      },
      {
       "output_type": "stream",
       "stream": "stderr",
       "text": [
        "WARNING:python_subgrid.wrapper:Crest level of structure connection_45 is below bed level of adjacent cells, crest level is raised to bed level\n"
       ]
      },
      {
       "output_type": "stream",
       "stream": "stderr",
       "text": [
        "WARNING:python_subgrid.wrapper:Crest level of structure connection_45 is below bed level of adjacent cells, crest level is raised to bed level\n"
       ]
      },
      {
       "output_type": "stream",
       "stream": "stderr",
       "text": [
        "WARNING:python_subgrid.wrapper:Crest level of structure connection_45 is below bed level of adjacent cells, crest level is raised to bed level\n"
       ]
      },
      {
       "output_type": "stream",
       "stream": "stderr",
       "text": [
        "WARNING:python_subgrid.wrapper:Crest level of structure connection_45 is below bed level of adjacent cells, crest level is raised to bed level\n"
       ]
      },
      {
       "output_type": "stream",
       "stream": "stderr",
       "text": [
        "WARNING:python_subgrid.wrapper:Crest level of structure connection_46 is below bed level of adjacent cells, crest level is raised to bed level\n"
       ]
      },
      {
       "output_type": "stream",
       "stream": "stderr",
       "text": [
        "WARNING:python_subgrid.wrapper:Crest level of structure connection_46 is below bed level of adjacent cells, crest level is raised to bed level\n"
       ]
      },
      {
       "output_type": "stream",
       "stream": "stderr",
       "text": [
        "WARNING:python_subgrid.wrapper:Crest level of structure connection_46 is below bed level of adjacent cells, crest level is raised to bed level\n"
       ]
      },
      {
       "output_type": "stream",
       "stream": "stderr",
       "text": [
        "WARNING:python_subgrid.wrapper:Crest level of structure connection_46 is below bed level of adjacent cells, crest level is raised to bed level\n"
       ]
      },
      {
       "output_type": "stream",
       "stream": "stderr",
       "text": [
        "WARNING:python_subgrid.wrapper:Crest level of structure connection_46 is below bed level of adjacent cells, crest level is raised to bed level\n"
       ]
      },
      {
       "output_type": "stream",
       "stream": "stderr",
       "text": [
        "WARNING:python_subgrid.wrapper:Crest level of structure connection_46 is below bed level of adjacent cells, crest level is raised to bed level\n"
       ]
      },
      {
       "output_type": "stream",
       "stream": "stderr",
       "text": [
        "WARNING:python_subgrid.wrapper:Crest level of structure connection_46 is below bed level of adjacent cells, crest level is raised to bed level\n"
       ]
      },
      {
       "output_type": "stream",
       "stream": "stderr",
       "text": [
        "WARNING:python_subgrid.wrapper:Crest level of structure connection_46 is below bed level of adjacent cells, crest level is raised to bed level\n"
       ]
      },
      {
       "output_type": "stream",
       "stream": "stderr",
       "text": [
        "WARNING:python_subgrid.wrapper:Crest level of structure connection_46 is below bed level of adjacent cells, crest level is raised to bed level\n"
       ]
      },
      {
       "output_type": "stream",
       "stream": "stderr",
       "text": [
        "WARNING:python_subgrid.wrapper:Crest level of structure connection_46 is below bed level of adjacent cells, crest level is raised to bed level\n"
       ]
      },
      {
       "output_type": "stream",
       "stream": "stderr",
       "text": [
        "WARNING:python_subgrid.wrapper:Crest level of structure connection_46 is below bed level of adjacent cells, crest level is raised to bed level\n"
       ]
      },
      {
       "output_type": "stream",
       "stream": "stderr",
       "text": [
        "WARNING:python_subgrid.wrapper:Crest level of structure connection_46 is below bed level of adjacent cells, crest level is raised to bed level\n"
       ]
      },
      {
       "output_type": "stream",
       "stream": "stderr",
       "text": [
        "WARNING:python_subgrid.wrapper:Crest level of structure connection_47 is below bed level of adjacent cells, crest level is raised to bed level\n"
       ]
      },
      {
       "output_type": "stream",
       "stream": "stderr",
       "text": [
        "WARNING:python_subgrid.wrapper:Crest level of structure connection_47 is below bed level of adjacent cells, crest level is raised to bed level\n"
       ]
      },
      {
       "output_type": "stream",
       "stream": "stderr",
       "text": [
        "WARNING:python_subgrid.wrapper:Crest level of structure connection_47 is below bed level of adjacent cells, crest level is raised to bed level\n"
       ]
      },
      {
       "output_type": "stream",
       "stream": "stderr",
       "text": [
        "WARNING:python_subgrid.wrapper:Crest level of structure connection_47 is below bed level of adjacent cells, crest level is raised to bed level\n"
       ]
      },
      {
       "output_type": "stream",
       "stream": "stderr",
       "text": [
        "WARNING:python_subgrid.wrapper:Crest level of structure connection_47 is below bed level of adjacent cells, crest level is raised to bed level\n"
       ]
      },
      {
       "output_type": "stream",
       "stream": "stderr",
       "text": [
        "WARNING:python_subgrid.wrapper:Crest level of structure connection_47 is below bed level of adjacent cells, crest level is raised to bed level\n"
       ]
      },
      {
       "output_type": "stream",
       "stream": "stderr",
       "text": [
        "WARNING:python_subgrid.wrapper:Crest level of structure connection_48 is below bed level of adjacent cells, crest level is raised to bed level\n"
       ]
      },
      {
       "output_type": "stream",
       "stream": "stderr",
       "text": [
        "WARNING:python_subgrid.wrapper:Crest level of structure connection_48 is below bed level of adjacent cells, crest level is raised to bed level\n"
       ]
      },
      {
       "output_type": "stream",
       "stream": "stderr",
       "text": [
        "WARNING:python_subgrid.wrapper:Crest level of structure connection_48 is below bed level of adjacent cells, crest level is raised to bed level\n"
       ]
      },
      {
       "output_type": "stream",
       "stream": "stderr",
       "text": [
        "WARNING:python_subgrid.wrapper:Crest level of structure connection_48 is below bed level of adjacent cells, crest level is raised to bed level\n"
       ]
      },
      {
       "output_type": "stream",
       "stream": "stderr",
       "text": [
        "WARNING:python_subgrid.wrapper:Crest level of structure connection_48 is below bed level of adjacent cells, crest level is raised to bed level\n"
       ]
      },
      {
       "output_type": "stream",
       "stream": "stderr",
       "text": [
        "WARNING:python_subgrid.wrapper:Crest level of structure connection_49 is below bed level of adjacent cells, crest level is raised to bed level\n"
       ]
      },
      {
       "output_type": "stream",
       "stream": "stderr",
       "text": [
        "WARNING:python_subgrid.wrapper:Crest level of structure connection_49 is below bed level of adjacent cells, crest level is raised to bed level\n"
       ]
      },
      {
       "output_type": "stream",
       "stream": "stderr",
       "text": [
        "WARNING:python_subgrid.wrapper:Crest level of structure connection_50 is below bed level of adjacent cells, crest level is raised to bed level\n"
       ]
      },
      {
       "output_type": "stream",
       "stream": "stderr",
       "text": [
        "WARNING:python_subgrid.wrapper:Crest level of structure connection_50 is below bed level of adjacent cells, crest level is raised to bed level\n"
       ]
      },
      {
       "output_type": "stream",
       "stream": "stderr",
       "text": [
        "WARNING:python_subgrid.wrapper:Crest level of structure connection_50 is below bed level of adjacent cells, crest level is raised to bed level\n"
       ]
      },
      {
       "output_type": "stream",
       "stream": "stderr",
       "text": [
        "WARNING:python_subgrid.wrapper:Crest level of structure connection_50 is below bed level of adjacent cells, crest level is raised to bed level\n"
       ]
      },
      {
       "output_type": "stream",
       "stream": "stderr",
       "text": [
        "WARNING:python_subgrid.wrapper:Crest level of structure connection_50 is below bed level of adjacent cells, crest level is raised to bed level\n"
       ]
      },
      {
       "output_type": "stream",
       "stream": "stderr",
       "text": [
        "WARNING:python_subgrid.wrapper:Crest level of structure connection_50 is below bed level of adjacent cells, crest level is raised to bed level\n"
       ]
      },
      {
       "output_type": "stream",
       "stream": "stderr",
       "text": [
        "WARNING:python_subgrid.wrapper:Crest level of structure connection_51 is below bed level of adjacent cells, crest level is raised to bed level\n"
       ]
      },
      {
       "output_type": "stream",
       "stream": "stderr",
       "text": [
        "WARNING:python_subgrid.wrapper:Crest level of structure connection_51 is below bed level of adjacent cells, crest level is raised to bed level\n"
       ]
      },
      {
       "output_type": "stream",
       "stream": "stderr",
       "text": [
        "WARNING:python_subgrid.wrapper:Crest level of structure connection_51 is below bed level of adjacent cells, crest level is raised to bed level\n"
       ]
      },
      {
       "output_type": "stream",
       "stream": "stderr",
       "text": [
        "WARNING:python_subgrid.wrapper:Crest level of structure connection_51 is below bed level of adjacent cells, crest level is raised to bed level\n"
       ]
      },
      {
       "output_type": "stream",
       "stream": "stderr",
       "text": [
        "WARNING:python_subgrid.wrapper:Crest level of structure connection_51 is below bed level of adjacent cells, crest level is raised to bed level\n"
       ]
      },
      {
       "output_type": "stream",
       "stream": "stderr",
       "text": [
        "WARNING:python_subgrid.wrapper:Crest level of structure connection_51 is below bed level of adjacent cells, crest level is raised to bed level\n"
       ]
      },
      {
       "output_type": "stream",
       "stream": "stderr",
       "text": [
        "WARNING:python_subgrid.wrapper:Crest level of structure connection_51 is below bed level of adjacent cells, crest level is raised to bed level\n"
       ]
      },
      {
       "output_type": "stream",
       "stream": "stderr",
       "text": [
        "WARNING:python_subgrid.wrapper:Crest level of structure connection_51 is below bed level of adjacent cells, crest level is raised to bed level\n"
       ]
      },
      {
       "output_type": "stream",
       "stream": "stderr",
       "text": [
        "WARNING:python_subgrid.wrapper:Crest level of structure connection_51 is below bed level of adjacent cells, crest level is raised to bed level\n"
       ]
      },
      {
       "output_type": "stream",
       "stream": "stderr",
       "text": [
        "WARNING:python_subgrid.wrapper:Crest level of structure connection_51 is below bed level of adjacent cells, crest level is raised to bed level\n"
       ]
      },
      {
       "output_type": "stream",
       "stream": "stderr",
       "text": [
        "WARNING:python_subgrid.wrapper:Crest level of structure connection_51 is below bed level of adjacent cells, crest level is raised to bed level\n"
       ]
      },
      {
       "output_type": "stream",
       "stream": "stderr",
       "text": [
        "WARNING:python_subgrid.wrapper:Crest level of structure connection_52 is below bed level of adjacent cells, crest level is raised to bed level\n"
       ]
      },
      {
       "output_type": "stream",
       "stream": "stderr",
       "text": [
        "WARNING:python_subgrid.wrapper:Crest level of structure connection_52 is below bed level of adjacent cells, crest level is raised to bed level\n"
       ]
      },
      {
       "output_type": "stream",
       "stream": "stderr",
       "text": [
        "WARNING:python_subgrid.wrapper:Crest level of structure connection_52 is below bed level of adjacent cells, crest level is raised to bed level\n"
       ]
      },
      {
       "output_type": "stream",
       "stream": "stderr",
       "text": [
        "WARNING:python_subgrid.wrapper:Crest level of structure connection_52 is below bed level of adjacent cells, crest level is raised to bed level\n"
       ]
      },
      {
       "output_type": "stream",
       "stream": "stderr",
       "text": [
        "WARNING:python_subgrid.wrapper:Crest level of structure connection_52 is below bed level of adjacent cells, crest level is raised to bed level\n"
       ]
      },
      {
       "output_type": "stream",
       "stream": "stderr",
       "text": [
        "WARNING:python_subgrid.wrapper:Crest level of structure connection_52 is below bed level of adjacent cells, crest level is raised to bed level\n"
       ]
      },
      {
       "output_type": "stream",
       "stream": "stderr",
       "text": [
        "WARNING:python_subgrid.wrapper:Crest level of structure connection_52 is below bed level of adjacent cells, crest level is raised to bed level\n"
       ]
      },
      {
       "output_type": "stream",
       "stream": "stderr",
       "text": [
        "WARNING:python_subgrid.wrapper:Crest level of structure connection_52 is below bed level of adjacent cells, crest level is raised to bed level\n"
       ]
      },
      {
       "output_type": "stream",
       "stream": "stderr",
       "text": [
        "WARNING:python_subgrid.wrapper:Crest level of structure connection_52 is below bed level of adjacent cells, crest level is raised to bed level\n"
       ]
      },
      {
       "output_type": "stream",
       "stream": "stderr",
       "text": [
        "WARNING:python_subgrid.wrapper:Crest level of structure connection_52 is below bed level of adjacent cells, crest level is raised to bed level\n"
       ]
      },
      {
       "output_type": "stream",
       "stream": "stderr",
       "text": [
        "WARNING:python_subgrid.wrapper:Crest level of structure connection_52 is below bed level of adjacent cells, crest level is raised to bed level\n"
       ]
      },
      {
       "output_type": "stream",
       "stream": "stderr",
       "text": [
        "WARNING:python_subgrid.wrapper:Crest level of structure connection_52 is below bed level of adjacent cells, crest level is raised to bed level\n"
       ]
      },
      {
       "output_type": "stream",
       "stream": "stderr",
       "text": [
        "WARNING:python_subgrid.wrapper:Crest level of structure connection_52 is below bed level of adjacent cells, crest level is raised to bed level\n"
       ]
      },
      {
       "output_type": "stream",
       "stream": "stderr",
       "text": [
        "WARNING:python_subgrid.wrapper:Crest level of structure connection_52 is below bed level of adjacent cells, crest level is raised to bed level\n"
       ]
      },
      {
       "output_type": "stream",
       "stream": "stderr",
       "text": [
        "WARNING:python_subgrid.wrapper:Crest level of structure connection_52 is below bed level of adjacent cells, crest level is raised to bed level\n"
       ]
      },
      {
       "output_type": "stream",
       "stream": "stderr",
       "text": [
        "WARNING:python_subgrid.wrapper:Crest level of structure connection_52 is below bed level of adjacent cells, crest level is raised to bed level\n"
       ]
      },
      {
       "output_type": "stream",
       "stream": "stderr",
       "text": [
        "WARNING:python_subgrid.wrapper:Crest level of structure connection_53 is below bed level of adjacent cells, crest level is raised to bed level\n"
       ]
      },
      {
       "output_type": "stream",
       "stream": "stderr",
       "text": [
        "WARNING:python_subgrid.wrapper:Crest level of structure connection_53 is below bed level of adjacent cells, crest level is raised to bed level\n"
       ]
      },
      {
       "output_type": "stream",
       "stream": "stderr",
       "text": [
        "WARNING:python_subgrid.wrapper:Crest level of structure connection_53 is below bed level of adjacent cells, crest level is raised to bed level\n"
       ]
      },
      {
       "output_type": "stream",
       "stream": "stderr",
       "text": [
        "WARNING:python_subgrid.wrapper:Crest level of structure connection_53 is below bed level of adjacent cells, crest level is raised to bed level\n"
       ]
      },
      {
       "output_type": "stream",
       "stream": "stderr",
       "text": [
        "WARNING:python_subgrid.wrapper:Crest level of structure connection_53 is below bed level of adjacent cells, crest level is raised to bed level\n"
       ]
      },
      {
       "output_type": "stream",
       "stream": "stderr",
       "text": [
        "WARNING:python_subgrid.wrapper:Crest level of structure connection_53 is below bed level of adjacent cells, crest level is raised to bed level\n"
       ]
      },
      {
       "output_type": "stream",
       "stream": "stderr",
       "text": [
        "WARNING:python_subgrid.wrapper:Crest level of structure connection_53 is below bed level of adjacent cells, crest level is raised to bed level\n"
       ]
      },
      {
       "output_type": "stream",
       "stream": "stderr",
       "text": [
        "WARNING:python_subgrid.wrapper:Crest level of structure connection_53 is below bed level of adjacent cells, crest level is raised to bed level\n"
       ]
      },
      {
       "output_type": "stream",
       "stream": "stderr",
       "text": [
        "WARNING:python_subgrid.wrapper:Crest level of structure connection_54 is below bed level of adjacent cells, crest level is raised to bed level\n"
       ]
      },
      {
       "output_type": "stream",
       "stream": "stderr",
       "text": [
        "WARNING:python_subgrid.wrapper:Crest level of structure connection_54 is below bed level of adjacent cells, crest level is raised to bed level\n"
       ]
      },
      {
       "output_type": "stream",
       "stream": "stderr",
       "text": [
        "WARNING:python_subgrid.wrapper:Crest level of structure connection_54 is below bed level of adjacent cells, crest level is raised to bed level\n"
       ]
      },
      {
       "output_type": "stream",
       "stream": "stderr",
       "text": [
        "WARNING:python_subgrid.wrapper:Crest level of structure connection_54 is below bed level of adjacent cells, crest level is raised to bed level\n"
       ]
      },
      {
       "output_type": "stream",
       "stream": "stderr",
       "text": [
        "WARNING:python_subgrid.wrapper:Crest level of structure connection_54 is below bed level of adjacent cells, crest level is raised to bed level\n"
       ]
      },
      {
       "output_type": "stream",
       "stream": "stderr",
       "text": [
        "WARNING:python_subgrid.wrapper:Crest level of structure connection_54 is below bed level of adjacent cells, crest level is raised to bed level\n"
       ]
      },
      {
       "output_type": "stream",
       "stream": "stderr",
       "text": [
        "WARNING:python_subgrid.wrapper:Crest level of structure connection_54 is below bed level of adjacent cells, crest level is raised to bed level\n"
       ]
      },
      {
       "output_type": "stream",
       "stream": "stderr",
       "text": [
        "WARNING:python_subgrid.wrapper:Crest level of structure connection_54 is below bed level of adjacent cells, crest level is raised to bed level\n"
       ]
      },
      {
       "output_type": "stream",
       "stream": "stderr",
       "text": [
        "WARNING:python_subgrid.wrapper:Crest level of structure connection_54 is below bed level of adjacent cells, crest level is raised to bed level\n"
       ]
      },
      {
       "output_type": "stream",
       "stream": "stderr",
       "text": [
        "WARNING:python_subgrid.wrapper:Crest level of structure connection_54 is below bed level of adjacent cells, crest level is raised to bed level\n"
       ]
      },
      {
       "output_type": "stream",
       "stream": "stderr",
       "text": [
        "WARNING:python_subgrid.wrapper:Crest level of structure connection_54 is below bed level of adjacent cells, crest level is raised to bed level\n"
       ]
      },
      {
       "output_type": "stream",
       "stream": "stderr",
       "text": [
        "WARNING:python_subgrid.wrapper:Crest level of structure connection_54 is below bed level of adjacent cells, crest level is raised to bed level\n"
       ]
      },
      {
       "output_type": "stream",
       "stream": "stderr",
       "text": [
        "WARNING:python_subgrid.wrapper:Crest level of structure connection_54 is below bed level of adjacent cells, crest level is raised to bed level\n"
       ]
      },
      {
       "output_type": "stream",
       "stream": "stderr",
       "text": [
        "WARNING:python_subgrid.wrapper:Crest level of structure connection_55 is below bed level of adjacent cells, crest level is raised to bed level\n"
       ]
      },
      {
       "output_type": "stream",
       "stream": "stderr",
       "text": [
        "WARNING:python_subgrid.wrapper:Crest level of structure connection_55 is below bed level of adjacent cells, crest level is raised to bed level\n"
       ]
      },
      {
       "output_type": "stream",
       "stream": "stderr",
       "text": [
        "WARNING:python_subgrid.wrapper:Crest level of structure connection_55 is below bed level of adjacent cells, crest level is raised to bed level\n"
       ]
      },
      {
       "output_type": "stream",
       "stream": "stderr",
       "text": [
        "WARNING:python_subgrid.wrapper:Crest level of structure connection_55 is below bed level of adjacent cells, crest level is raised to bed level\n"
       ]
      },
      {
       "output_type": "stream",
       "stream": "stderr",
       "text": [
        "WARNING:python_subgrid.wrapper:Crest level of structure connection_55 is below bed level of adjacent cells, crest level is raised to bed level\n"
       ]
      },
      {
       "output_type": "stream",
       "stream": "stderr",
       "text": [
        "WARNING:python_subgrid.wrapper:Crest level of structure connection_55 is below bed level of adjacent cells, crest level is raised to bed level\n"
       ]
      },
      {
       "output_type": "stream",
       "stream": "stderr",
       "text": [
        "WARNING:python_subgrid.wrapper:Crest level of structure connection_55 is below bed level of adjacent cells, crest level is raised to bed level\n"
       ]
      },
      {
       "output_type": "stream",
       "stream": "stderr",
       "text": [
        "WARNING:python_subgrid.wrapper:Crest level of structure connection_57 is below bed level of adjacent cells, crest level is raised to bed level\n"
       ]
      },
      {
       "output_type": "stream",
       "stream": "stderr",
       "text": [
        "WARNING:python_subgrid.wrapper:Crest level of structure connection_57 is below bed level of adjacent cells, crest level is raised to bed level\n"
       ]
      },
      {
       "output_type": "stream",
       "stream": "stderr",
       "text": [
        "WARNING:python_subgrid.wrapper:Crest level of structure connection_57 is below bed level of adjacent cells, crest level is raised to bed level\n"
       ]
      },
      {
       "output_type": "stream",
       "stream": "stderr",
       "text": [
        "WARNING:python_subgrid.wrapper:Crest level of structure connection_57 is below bed level of adjacent cells, crest level is raised to bed level\n"
       ]
      },
      {
       "output_type": "stream",
       "stream": "stderr",
       "text": [
        "WARNING:python_subgrid.wrapper:Crest level of structure connection_57 is below bed level of adjacent cells, crest level is raised to bed level\n"
       ]
      },
      {
       "output_type": "stream",
       "stream": "stderr",
       "text": [
        "WARNING:python_subgrid.wrapper:Crest level of structure connection_57 is below bed level of adjacent cells, crest level is raised to bed level\n"
       ]
      },
      {
       "output_type": "stream",
       "stream": "stderr",
       "text": [
        "WARNING:python_subgrid.wrapper:Crest level of structure connection_58 is below bed level of adjacent cells, crest level is raised to bed level\n"
       ]
      },
      {
       "output_type": "stream",
       "stream": "stderr",
       "text": [
        "WARNING:python_subgrid.wrapper:Crest level of structure connection_58 is below bed level of adjacent cells, crest level is raised to bed level\n"
       ]
      },
      {
       "output_type": "stream",
       "stream": "stderr",
       "text": [
        "WARNING:python_subgrid.wrapper:Crest level of structure connection_58 is below bed level of adjacent cells, crest level is raised to bed level\n"
       ]
      },
      {
       "output_type": "stream",
       "stream": "stderr",
       "text": [
        "WARNING:python_subgrid.wrapper:Crest level of structure connection_58 is below bed level of adjacent cells, crest level is raised to bed level\n"
       ]
      },
      {
       "output_type": "stream",
       "stream": "stderr",
       "text": [
        "WARNING:python_subgrid.wrapper:Crest level of structure connection_58 is below bed level of adjacent cells, crest level is raised to bed level\n"
       ]
      },
      {
       "output_type": "stream",
       "stream": "stderr",
       "text": [
        "WARNING:python_subgrid.wrapper:Crest level of structure connection_58 is below bed level of adjacent cells, crest level is raised to bed level\n"
       ]
      },
      {
       "output_type": "stream",
       "stream": "stderr",
       "text": [
        "WARNING:python_subgrid.wrapper:Crest level of structure connection_61 is below bed level of adjacent cells, crest level is raised to bed level\n"
       ]
      },
      {
       "output_type": "stream",
       "stream": "stderr",
       "text": [
        "WARNING:python_subgrid.wrapper:Crest level of structure connection_61 is below bed level of adjacent cells, crest level is raised to bed level\n"
       ]
      },
      {
       "output_type": "stream",
       "stream": "stderr",
       "text": [
        "WARNING:python_subgrid.wrapper:Crest level of structure connection_61 is below bed level of adjacent cells, crest level is raised to bed level\n"
       ]
      },
      {
       "output_type": "stream",
       "stream": "stderr",
       "text": [
        "WARNING:python_subgrid.wrapper:Crest level of structure connection_61 is below bed level of adjacent cells, crest level is raised to bed level\n"
       ]
      },
      {
       "output_type": "stream",
       "stream": "stderr",
       "text": [
        "WARNING:python_subgrid.wrapper:Crest level of structure connection_61 is below bed level of adjacent cells, crest level is raised to bed level\n"
       ]
      },
      {
       "output_type": "stream",
       "stream": "stderr",
       "text": [
        "WARNING:python_subgrid.wrapper:Crest level of structure connection_62 is below bed level of adjacent cells, crest level is raised to bed level\n"
       ]
      },
      {
       "output_type": "stream",
       "stream": "stderr",
       "text": [
        "WARNING:python_subgrid.wrapper:Crest level of structure connection_62 is below bed level of adjacent cells, crest level is raised to bed level\n"
       ]
      },
      {
       "output_type": "stream",
       "stream": "stderr",
       "text": [
        "WARNING:python_subgrid.wrapper:Crest level of structure connection_62 is below bed level of adjacent cells, crest level is raised to bed level\n"
       ]
      },
      {
       "output_type": "stream",
       "stream": "stderr",
       "text": [
        "WARNING:python_subgrid.wrapper:Crest level of structure connection_62 is below bed level of adjacent cells, crest level is raised to bed level\n"
       ]
      },
      {
       "output_type": "stream",
       "stream": "stderr",
       "text": [
        "WARNING:python_subgrid.wrapper:Crest level of structure connection_62 is below bed level of adjacent cells, crest level is raised to bed level\n"
       ]
      },
      {
       "output_type": "stream",
       "stream": "stderr",
       "text": [
        "WARNING:python_subgrid.wrapper:Crest level of structure connection_63 is below bed level of adjacent cells, crest level is raised to bed level\n"
       ]
      },
      {
       "output_type": "stream",
       "stream": "stderr",
       "text": [
        "WARNING:python_subgrid.wrapper:Crest level of structure connection_63 is below bed level of adjacent cells, crest level is raised to bed level\n"
       ]
      },
      {
       "output_type": "stream",
       "stream": "stderr",
       "text": [
        "WARNING:python_subgrid.wrapper:Crest level of structure connection_63 is below bed level of adjacent cells, crest level is raised to bed level\n"
       ]
      },
      {
       "output_type": "stream",
       "stream": "stderr",
       "text": [
        "WARNING:python_subgrid.wrapper:Crest level of structure connection_63 is below bed level of adjacent cells, crest level is raised to bed level\n"
       ]
      },
      {
       "output_type": "stream",
       "stream": "stderr",
       "text": [
        "WARNING:python_subgrid.wrapper:Crest level of structure connection_63 is below bed level of adjacent cells, crest level is raised to bed level\n"
       ]
      },
      {
       "output_type": "stream",
       "stream": "stderr",
       "text": [
        "WARNING:python_subgrid.wrapper:Crest level of structure connection_63 is below bed level of adjacent cells, crest level is raised to bed level\n"
       ]
      },
      {
       "output_type": "stream",
       "stream": "stderr",
       "text": [
        "WARNING:python_subgrid.wrapper:Crest level of structure connection_63 is below bed level of adjacent cells, crest level is raised to bed level\n"
       ]
      },
      {
       "output_type": "stream",
       "stream": "stderr",
       "text": [
        "WARNING:python_subgrid.wrapper:Crest level of structure connection_63 is below bed level of adjacent cells, crest level is raised to bed level\n"
       ]
      },
      {
       "output_type": "stream",
       "stream": "stderr",
       "text": [
        "WARNING:python_subgrid.wrapper:Crest level of structure connection_63 is below bed level of adjacent cells, crest level is raised to bed level\n"
       ]
      },
      {
       "output_type": "stream",
       "stream": "stderr",
       "text": [
        "WARNING:python_subgrid.wrapper:Crest level of structure connection_63 is below bed level of adjacent cells, crest level is raised to bed level\n"
       ]
      },
      {
       "output_type": "stream",
       "stream": "stderr",
       "text": [
        "WARNING:python_subgrid.wrapper:Crest level of structure connection_65 is below bed level of adjacent cells, crest level is raised to bed level\n"
       ]
      },
      {
       "output_type": "stream",
       "stream": "stderr",
       "text": [
        "WARNING:python_subgrid.wrapper:Crest level of structure connection_65 is below bed level of adjacent cells, crest level is raised to bed level\n"
       ]
      },
      {
       "output_type": "stream",
       "stream": "stderr",
       "text": [
        "WARNING:python_subgrid.wrapper:Crest level of structure connection_65 is below bed level of adjacent cells, crest level is raised to bed level\n"
       ]
      },
      {
       "output_type": "stream",
       "stream": "stderr",
       "text": [
        "WARNING:python_subgrid.wrapper:Crest level of structure connection_65 is below bed level of adjacent cells, crest level is raised to bed level\n"
       ]
      },
      {
       "output_type": "stream",
       "stream": "stderr",
       "text": [
        "WARNING:python_subgrid.wrapper:Crest level of structure connection_65 is below bed level of adjacent cells, crest level is raised to bed level\n"
       ]
      },
      {
       "output_type": "stream",
       "stream": "stderr",
       "text": [
        "WARNING:python_subgrid.wrapper:Crest level of structure connection_65 is below bed level of adjacent cells, crest level is raised to bed level\n"
       ]
      },
      {
       "output_type": "stream",
       "stream": "stderr",
       "text": [
        "WARNING:python_subgrid.wrapper:Crest level of structure connection_65 is below bed level of adjacent cells, crest level is raised to bed level\n"
       ]
      },
      {
       "output_type": "stream",
       "stream": "stderr",
       "text": [
        "WARNING:python_subgrid.wrapper:Crest level of structure connection_65 is below bed level of adjacent cells, crest level is raised to bed level\n"
       ]
      },
      {
       "output_type": "stream",
       "stream": "stderr",
       "text": [
        "WARNING:python_subgrid.wrapper:Crest level of structure connection_65 is below bed level of adjacent cells, crest level is raised to bed level\n"
       ]
      },
      {
       "output_type": "stream",
       "stream": "stderr",
       "text": [
        "WARNING:python_subgrid.wrapper:Crest level of structure connection_66 is below bed level of adjacent cells, crest level is raised to bed level\n"
       ]
      },
      {
       "output_type": "stream",
       "stream": "stderr",
       "text": [
        "WARNING:python_subgrid.wrapper:Crest level of structure connection_66 is below bed level of adjacent cells, crest level is raised to bed level\n"
       ]
      },
      {
       "output_type": "stream",
       "stream": "stderr",
       "text": [
        "WARNING:python_subgrid.wrapper:Crest level of structure connection_66 is below bed level of adjacent cells, crest level is raised to bed level\n"
       ]
      },
      {
       "output_type": "stream",
       "stream": "stderr",
       "text": [
        "WARNING:python_subgrid.wrapper:Crest level of structure connection_66 is below bed level of adjacent cells, crest level is raised to bed level\n"
       ]
      },
      {
       "output_type": "stream",
       "stream": "stderr",
       "text": [
        "WARNING:python_subgrid.wrapper:Crest level of structure connection_66 is below bed level of adjacent cells, crest level is raised to bed level\n"
       ]
      },
      {
       "output_type": "stream",
       "stream": "stderr",
       "text": [
        "WARNING:python_subgrid.wrapper:Crest level of structure connection_66 is below bed level of adjacent cells, crest level is raised to bed level\n"
       ]
      },
      {
       "output_type": "stream",
       "stream": "stderr",
       "text": [
        "WARNING:python_subgrid.wrapper:Crest level of structure connection_66 is below bed level of adjacent cells, crest level is raised to bed level\n"
       ]
      },
      {
       "output_type": "stream",
       "stream": "stderr",
       "text": [
        "WARNING:python_subgrid.wrapper:Crest level of structure connection_66 is below bed level of adjacent cells, crest level is raised to bed level\n"
       ]
      },
      {
       "output_type": "stream",
       "stream": "stderr",
       "text": [
        "WARNING:python_subgrid.wrapper:Crest level of structure connection_66 is below bed level of adjacent cells, crest level is raised to bed level\n"
       ]
      },
      {
       "output_type": "stream",
       "stream": "stderr",
       "text": [
        "WARNING:python_subgrid.wrapper:Crest level of structure connection_67 is below bed level of adjacent cells, crest level is raised to bed level\n"
       ]
      },
      {
       "output_type": "stream",
       "stream": "stderr",
       "text": [
        "WARNING:python_subgrid.wrapper:Crest level of structure connection_67 is below bed level of adjacent cells, crest level is raised to bed level\n"
       ]
      },
      {
       "output_type": "stream",
       "stream": "stderr",
       "text": [
        "WARNING:python_subgrid.wrapper:Crest level of structure connection_67 is below bed level of adjacent cells, crest level is raised to bed level\n"
       ]
      },
      {
       "output_type": "stream",
       "stream": "stderr",
       "text": [
        "WARNING:python_subgrid.wrapper:Crest level of structure connection_67 is below bed level of adjacent cells, crest level is raised to bed level\n"
       ]
      },
      {
       "output_type": "stream",
       "stream": "stderr",
       "text": [
        "WARNING:python_subgrid.wrapper:Crest level of structure connection_67 is below bed level of adjacent cells, crest level is raised to bed level\n"
       ]
      },
      {
       "output_type": "stream",
       "stream": "stderr",
       "text": [
        "WARNING:python_subgrid.wrapper:Crest level of structure connection_67 is below bed level of adjacent cells, crest level is raised to bed level\n"
       ]
      },
      {
       "output_type": "stream",
       "stream": "stderr",
       "text": [
        "WARNING:python_subgrid.wrapper:Crest level of structure connection_67 is below bed level of adjacent cells, crest level is raised to bed level\n"
       ]
      },
      {
       "output_type": "stream",
       "stream": "stderr",
       "text": [
        "WARNING:python_subgrid.wrapper:Crest level of structure connection_67 is below bed level of adjacent cells, crest level is raised to bed level\n"
       ]
      },
      {
       "output_type": "stream",
       "stream": "stderr",
       "text": [
        "WARNING:python_subgrid.wrapper:Crest level of structure connection_67 is below bed level of adjacent cells, crest level is raised to bed level\n"
       ]
      },
      {
       "output_type": "stream",
       "stream": "stderr",
       "text": [
        "WARNING:python_subgrid.wrapper:Crest level of structure connection_67 is below bed level of adjacent cells, crest level is raised to bed level\n"
       ]
      },
      {
       "output_type": "stream",
       "stream": "stderr",
       "text": [
        "WARNING:python_subgrid.wrapper:Crest level of structure connection_67 is below bed level of adjacent cells, crest level is raised to bed level\n"
       ]
      },
      {
       "output_type": "stream",
       "stream": "stderr",
       "text": [
        "WARNING:python_subgrid.wrapper:Crest level of structure connection_67 is below bed level of adjacent cells, crest level is raised to bed level\n"
       ]
      },
      {
       "output_type": "stream",
       "stream": "stderr",
       "text": [
        "WARNING:python_subgrid.wrapper:Crest level of structure connection_67 is below bed level of adjacent cells, crest level is raised to bed level\n"
       ]
      },
      {
       "output_type": "stream",
       "stream": "stderr",
       "text": [
        "WARNING:python_subgrid.wrapper:Crest level of structure connection_67 is below bed level of adjacent cells, crest level is raised to bed level\n"
       ]
      },
      {
       "output_type": "stream",
       "stream": "stderr",
       "text": [
        "WARNING:python_subgrid.wrapper:Crest level of structure connection_67 is below bed level of adjacent cells, crest level is raised to bed level\n"
       ]
      },
      {
       "output_type": "stream",
       "stream": "stderr",
       "text": [
        "WARNING:python_subgrid.wrapper:Crest level of structure connection_67 is below bed level of adjacent cells, crest level is raised to bed level\n"
       ]
      },
      {
       "output_type": "stream",
       "stream": "stderr",
       "text": [
        "WARNING:python_subgrid.wrapper:Crest level of structure connection_67 is below bed level of adjacent cells, crest level is raised to bed level\n"
       ]
      },
      {
       "output_type": "stream",
       "stream": "stderr",
       "text": [
        "WARNING:python_subgrid.wrapper:Crest level of structure connection_67 is below bed level of adjacent cells, crest level is raised to bed level\n"
       ]
      },
      {
       "output_type": "stream",
       "stream": "stderr",
       "text": [
        "WARNING:python_subgrid.wrapper:Crest level of structure connection_67 is below bed level of adjacent cells, crest level is raised to bed level\n"
       ]
      },
      {
       "output_type": "stream",
       "stream": "stderr",
       "text": [
        "WARNING:python_subgrid.wrapper:Crest level of structure connection_67 is below bed level of adjacent cells, crest level is raised to bed level\n"
       ]
      },
      {
       "output_type": "stream",
       "stream": "stderr",
       "text": [
        "WARNING:python_subgrid.wrapper:Crest level of structure connection_68 is below bed level of adjacent cells, crest level is raised to bed level\n"
       ]
      },
      {
       "output_type": "stream",
       "stream": "stderr",
       "text": [
        "WARNING:python_subgrid.wrapper:Crest level of structure connection_68 is below bed level of adjacent cells, crest level is raised to bed level\n"
       ]
      },
      {
       "output_type": "stream",
       "stream": "stderr",
       "text": [
        "WARNING:python_subgrid.wrapper:Crest level of structure connection_68 is below bed level of adjacent cells, crest level is raised to bed level\n"
       ]
      },
      {
       "output_type": "stream",
       "stream": "stderr",
       "text": [
        "WARNING:python_subgrid.wrapper:Crest level of structure connection_68 is below bed level of adjacent cells, crest level is raised to bed level\n"
       ]
      },
      {
       "output_type": "stream",
       "stream": "stderr",
       "text": [
        "WARNING:python_subgrid.wrapper:Crest level of structure connection_68 is below bed level of adjacent cells, crest level is raised to bed level\n"
       ]
      },
      {
       "output_type": "stream",
       "stream": "stderr",
       "text": [
        "WARNING:python_subgrid.wrapper:Crest level of structure connection_68 is below bed level of adjacent cells, crest level is raised to bed level\n"
       ]
      },
      {
       "output_type": "stream",
       "stream": "stderr",
       "text": [
        "WARNING:python_subgrid.wrapper:Crest level of structure connection_68 is below bed level of adjacent cells, crest level is raised to bed level\n"
       ]
      },
      {
       "output_type": "stream",
       "stream": "stderr",
       "text": [
        "WARNING:python_subgrid.wrapper:Crest level of structure connection_68 is below bed level of adjacent cells, crest level is raised to bed level\n"
       ]
      },
      {
       "output_type": "stream",
       "stream": "stderr",
       "text": [
        "WARNING:python_subgrid.wrapper:Crest level of structure connection_68 is below bed level of adjacent cells, crest level is raised to bed level\n"
       ]
      },
      {
       "output_type": "stream",
       "stream": "stderr",
       "text": [
        "WARNING:python_subgrid.wrapper:Crest level of structure connection_68 is below bed level of adjacent cells, crest level is raised to bed level\n"
       ]
      },
      {
       "output_type": "stream",
       "stream": "stderr",
       "text": [
        "WARNING:python_subgrid.wrapper:Crest level of structure connection_68 is below bed level of adjacent cells, crest level is raised to bed level\n"
       ]
      },
      {
       "output_type": "stream",
       "stream": "stderr",
       "text": [
        "WARNING:python_subgrid.wrapper:Crest level of structure connection_68 is below bed level of adjacent cells, crest level is raised to bed level\n"
       ]
      },
      {
       "output_type": "stream",
       "stream": "stderr",
       "text": [
        "WARNING:python_subgrid.wrapper:Crest level of structure connection_68 is below bed level of adjacent cells, crest level is raised to bed level\n"
       ]
      },
      {
       "output_type": "stream",
       "stream": "stderr",
       "text": [
        "WARNING:python_subgrid.wrapper:Crest level of structure connection_68 is below bed level of adjacent cells, crest level is raised to bed level\n"
       ]
      },
      {
       "output_type": "stream",
       "stream": "stderr",
       "text": [
        "WARNING:python_subgrid.wrapper:Crest level of structure connection_68 is below bed level of adjacent cells, crest level is raised to bed level\n"
       ]
      },
      {
       "output_type": "stream",
       "stream": "stderr",
       "text": [
        "WARNING:python_subgrid.wrapper:Crest level of structure connection_68 is below bed level of adjacent cells, crest level is raised to bed level\n"
       ]
      },
      {
       "output_type": "stream",
       "stream": "stderr",
       "text": [
        "WARNING:python_subgrid.wrapper:Crest level of structure connection_68 is below bed level of adjacent cells, crest level is raised to bed level\n"
       ]
      },
      {
       "output_type": "stream",
       "stream": "stderr",
       "text": [
        "WARNING:python_subgrid.wrapper:Crest level of structure connection_68 is below bed level of adjacent cells, crest level is raised to bed level\n"
       ]
      },
      {
       "output_type": "stream",
       "stream": "stderr",
       "text": [
        "WARNING:python_subgrid.wrapper:Crest level of structure connection_68 is below bed level of adjacent cells, crest level is raised to bed level\n"
       ]
      },
      {
       "output_type": "stream",
       "stream": "stderr",
       "text": [
        "WARNING:python_subgrid.wrapper:Crest level of structure connection_68 is below bed level of adjacent cells, crest level is raised to bed level\n"
       ]
      },
      {
       "output_type": "stream",
       "stream": "stderr",
       "text": [
        "WARNING:python_subgrid.wrapper:Crest level of structure connection_69 is below bed level of adjacent cells, crest level is raised to bed level\n"
       ]
      },
      {
       "output_type": "stream",
       "stream": "stderr",
       "text": [
        "WARNING:python_subgrid.wrapper:Crest level of structure connection_69 is below bed level of adjacent cells, crest level is raised to bed level\n"
       ]
      },
      {
       "output_type": "stream",
       "stream": "stderr",
       "text": [
        "WARNING:python_subgrid.wrapper:Crest level of structure connection_69 is below bed level of adjacent cells, crest level is raised to bed level\n"
       ]
      },
      {
       "output_type": "stream",
       "stream": "stderr",
       "text": [
        "WARNING:python_subgrid.wrapper:Crest level of structure connection_69 is below bed level of adjacent cells, crest level is raised to bed level\n"
       ]
      },
      {
       "output_type": "stream",
       "stream": "stderr",
       "text": [
        "WARNING:python_subgrid.wrapper:Crest level of structure connection_69 is below bed level of adjacent cells, crest level is raised to bed level\n"
       ]
      },
      {
       "output_type": "stream",
       "stream": "stderr",
       "text": [
        "WARNING:python_subgrid.wrapper:Crest level of structure connection_69 is below bed level of adjacent cells, crest level is raised to bed level\n"
       ]
      },
      {
       "output_type": "stream",
       "stream": "stderr",
       "text": [
        "WARNING:python_subgrid.wrapper:Crest level of structure connection_69 is below bed level of adjacent cells, crest level is raised to bed level\n"
       ]
      },
      {
       "output_type": "stream",
       "stream": "stderr",
       "text": [
        "WARNING:python_subgrid.wrapper:Crest level of structure connection_70 is below bed level of adjacent cells, crest level is raised to bed level\n"
       ]
      },
      {
       "output_type": "stream",
       "stream": "stderr",
       "text": [
        "WARNING:python_subgrid.wrapper:Crest level of structure connection_70 is below bed level of adjacent cells, crest level is raised to bed level\n"
       ]
      },
      {
       "output_type": "stream",
       "stream": "stderr",
       "text": [
        "WARNING:python_subgrid.wrapper:Crest level of structure connection_70 is below bed level of adjacent cells, crest level is raised to bed level\n"
       ]
      },
      {
       "output_type": "stream",
       "stream": "stderr",
       "text": [
        "WARNING:python_subgrid.wrapper:Crest level of structure connection_70 is below bed level of adjacent cells, crest level is raised to bed level\n"
       ]
      },
      {
       "output_type": "stream",
       "stream": "stderr",
       "text": [
        "WARNING:python_subgrid.wrapper:Crest level of structure connection_70 is below bed level of adjacent cells, crest level is raised to bed level\n"
       ]
      },
      {
       "output_type": "stream",
       "stream": "stderr",
       "text": [
        "WARNING:python_subgrid.wrapper:Crest level of structure connection_70 is below bed level of adjacent cells, crest level is raised to bed level\n"
       ]
      },
      {
       "output_type": "stream",
       "stream": "stderr",
       "text": [
        "WARNING:python_subgrid.wrapper:Crest level of structure connection_70 is below bed level of adjacent cells, crest level is raised to bed level\n"
       ]
      },
      {
       "output_type": "stream",
       "stream": "stderr",
       "text": [
        "WARNING:python_subgrid.wrapper:Crest level of structure connection_71 is below bed level of adjacent cells, crest level is raised to bed level\n"
       ]
      },
      {
       "output_type": "stream",
       "stream": "stderr",
       "text": [
        "WARNING:python_subgrid.wrapper:Crest level of structure connection_71 is below bed level of adjacent cells, crest level is raised to bed level\n"
       ]
      },
      {
       "output_type": "stream",
       "stream": "stderr",
       "text": [
        "WARNING:python_subgrid.wrapper:Crest level of structure connection_71 is below bed level of adjacent cells, crest level is raised to bed level\n"
       ]
      },
      {
       "output_type": "stream",
       "stream": "stderr",
       "text": [
        "WARNING:python_subgrid.wrapper:Crest level of structure connection_71 is below bed level of adjacent cells, crest level is raised to bed level\n"
       ]
      },
      {
       "output_type": "stream",
       "stream": "stderr",
       "text": [
        "WARNING:python_subgrid.wrapper:Crest level of structure connection_71 is below bed level of adjacent cells, crest level is raised to bed level\n"
       ]
      },
      {
       "output_type": "stream",
       "stream": "stderr",
       "text": [
        "WARNING:python_subgrid.wrapper:Crest level of structure connection_71 is below bed level of adjacent cells, crest level is raised to bed level\n"
       ]
      },
      {
       "output_type": "stream",
       "stream": "stderr",
       "text": [
        "WARNING:python_subgrid.wrapper:Crest level of structure connection_71 is below bed level of adjacent cells, crest level is raised to bed level\n"
       ]
      },
      {
       "output_type": "stream",
       "stream": "stderr",
       "text": [
        "WARNING:python_subgrid.wrapper:Crest level of structure connection_71 is below bed level of adjacent cells, crest level is raised to bed level\n"
       ]
      },
      {
       "output_type": "stream",
       "stream": "stderr",
       "text": [
        "WARNING:python_subgrid.wrapper:Crest level of structure connection_71 is below bed level of adjacent cells, crest level is raised to bed level\n"
       ]
      },
      {
       "output_type": "stream",
       "stream": "stderr",
       "text": [
        "WARNING:python_subgrid.wrapper:Crest level of structure connection_72 is below bed level of adjacent cells, crest level is raised to bed level\n"
       ]
      },
      {
       "output_type": "stream",
       "stream": "stderr",
       "text": [
        "WARNING:python_subgrid.wrapper:Crest level of structure connection_72 is below bed level of adjacent cells, crest level is raised to bed level\n"
       ]
      },
      {
       "output_type": "stream",
       "stream": "stderr",
       "text": [
        "WARNING:python_subgrid.wrapper:Crest level of structure connection_72 is below bed level of adjacent cells, crest level is raised to bed level\n"
       ]
      },
      {
       "output_type": "stream",
       "stream": "stderr",
       "text": [
        "WARNING:python_subgrid.wrapper:Crest level of structure connection_72 is below bed level of adjacent cells, crest level is raised to bed level\n"
       ]
      },
      {
       "output_type": "stream",
       "stream": "stderr",
       "text": [
        "WARNING:python_subgrid.wrapper:Crest level of structure connection_72 is below bed level of adjacent cells, crest level is raised to bed level\n"
       ]
      },
      {
       "output_type": "stream",
       "stream": "stderr",
       "text": [
        "WARNING:python_subgrid.wrapper:Crest level of structure connection_72 is below bed level of adjacent cells, crest level is raised to bed level\n"
       ]
      },
      {
       "output_type": "stream",
       "stream": "stderr",
       "text": [
        "WARNING:python_subgrid.wrapper:Crest level of structure connection_72 is below bed level of adjacent cells, crest level is raised to bed level\n"
       ]
      },
      {
       "output_type": "stream",
       "stream": "stderr",
       "text": [
        "WARNING:python_subgrid.wrapper:Crest level of structure connection_72 is below bed level of adjacent cells, crest level is raised to bed level\n"
       ]
      },
      {
       "output_type": "stream",
       "stream": "stderr",
       "text": [
        "WARNING:python_subgrid.wrapper:Crest level of structure connection_72 is below bed level of adjacent cells, crest level is raised to bed level\n"
       ]
      },
      {
       "output_type": "stream",
       "stream": "stderr",
       "text": [
        "WARNING:python_subgrid.wrapper:Crest level of structure connection_73 is below bed level of adjacent cells, crest level is raised to bed level\n"
       ]
      },
      {
       "output_type": "stream",
       "stream": "stderr",
       "text": [
        "WARNING:python_subgrid.wrapper:Crest level of structure connection_73 is below bed level of adjacent cells, crest level is raised to bed level\n"
       ]
      },
      {
       "output_type": "stream",
       "stream": "stderr",
       "text": [
        "WARNING:python_subgrid.wrapper:Crest level of structure connection_73 is below bed level of adjacent cells, crest level is raised to bed level\n"
       ]
      },
      {
       "output_type": "stream",
       "stream": "stderr",
       "text": [
        "WARNING:python_subgrid.wrapper:Crest level of structure connection_73 is below bed level of adjacent cells, crest level is raised to bed level\n"
       ]
      },
      {
       "output_type": "stream",
       "stream": "stderr",
       "text": [
        "WARNING:python_subgrid.wrapper:Crest level of structure connection_73 is below bed level of adjacent cells, crest level is raised to bed level\n"
       ]
      },
      {
       "output_type": "stream",
       "stream": "stderr",
       "text": [
        "WARNING:python_subgrid.wrapper:Crest level of structure connection_73 is below bed level of adjacent cells, crest level is raised to bed level\n"
       ]
      },
      {
       "output_type": "stream",
       "stream": "stderr",
       "text": [
        "WARNING:python_subgrid.wrapper:Crest level of structure connection_73 is below bed level of adjacent cells, crest level is raised to bed level\n"
       ]
      },
      {
       "output_type": "stream",
       "stream": "stderr",
       "text": [
        "WARNING:python_subgrid.wrapper:Crest level of structure connection_73 is below bed level of adjacent cells, crest level is raised to bed level\n"
       ]
      },
      {
       "output_type": "stream",
       "stream": "stderr",
       "text": [
        "WARNING:python_subgrid.wrapper:Crest level of structure connection_73 is below bed level of adjacent cells, crest level is raised to bed level\n"
       ]
      },
      {
       "output_type": "stream",
       "stream": "stderr",
       "text": [
        "WARNING:python_subgrid.wrapper:Crest level of structure connection_73 is below bed level of adjacent cells, crest level is raised to bed level\n"
       ]
      },
      {
       "output_type": "stream",
       "stream": "stderr",
       "text": [
        "WARNING:python_subgrid.wrapper:Crest level of structure connection_74 is below bed level of adjacent cells, crest level is raised to bed level\n"
       ]
      },
      {
       "output_type": "stream",
       "stream": "stderr",
       "text": [
        "WARNING:python_subgrid.wrapper:Crest level of structure connection_74 is below bed level of adjacent cells, crest level is raised to bed level\n"
       ]
      },
      {
       "output_type": "stream",
       "stream": "stderr",
       "text": [
        "WARNING:python_subgrid.wrapper:Crest level of structure connection_74 is below bed level of adjacent cells, crest level is raised to bed level\n"
       ]
      },
      {
       "output_type": "stream",
       "stream": "stderr",
       "text": [
        "WARNING:python_subgrid.wrapper:Crest level of structure connection_74 is below bed level of adjacent cells, crest level is raised to bed level\n"
       ]
      },
      {
       "output_type": "stream",
       "stream": "stderr",
       "text": [
        "WARNING:python_subgrid.wrapper:Crest level of structure connection_74 is below bed level of adjacent cells, crest level is raised to bed level\n"
       ]
      },
      {
       "output_type": "stream",
       "stream": "stderr",
       "text": [
        "WARNING:python_subgrid.wrapper:Crest level of structure connection_74 is below bed level of adjacent cells, crest level is raised to bed level\n"
       ]
      },
      {
       "output_type": "stream",
       "stream": "stderr",
       "text": [
        "WARNING:python_subgrid.wrapper:Crest level of structure connection_74 is below bed level of adjacent cells, crest level is raised to bed level\n"
       ]
      },
      {
       "output_type": "stream",
       "stream": "stderr",
       "text": [
        "WARNING:python_subgrid.wrapper:Crest level of structure connection_74 is below bed level of adjacent cells, crest level is raised to bed level\n"
       ]
      },
      {
       "output_type": "stream",
       "stream": "stderr",
       "text": [
        "WARNING:python_subgrid.wrapper:Crest level of structure connection_74 is below bed level of adjacent cells, crest level is raised to bed level\n"
       ]
      },
      {
       "output_type": "stream",
       "stream": "stderr",
       "text": [
        "WARNING:python_subgrid.wrapper:Crest level of structure connection_75 is below bed level of adjacent cells, crest level is raised to bed level\n"
       ]
      },
      {
       "output_type": "stream",
       "stream": "stderr",
       "text": [
        "WARNING:python_subgrid.wrapper:Crest level of structure connection_75 is below bed level of adjacent cells, crest level is raised to bed level\n"
       ]
      },
      {
       "output_type": "stream",
       "stream": "stderr",
       "text": [
        "WARNING:python_subgrid.wrapper:Crest level of structure connection_75 is below bed level of adjacent cells, crest level is raised to bed level\n"
       ]
      },
      {
       "output_type": "stream",
       "stream": "stderr",
       "text": [
        "WARNING:python_subgrid.wrapper:Crest level of structure connection_76 is below bed level of adjacent cells, crest level is raised to bed level\n"
       ]
      },
      {
       "output_type": "stream",
       "stream": "stderr",
       "text": [
        "WARNING:python_subgrid.wrapper:Crest level of structure connection_76 is below bed level of adjacent cells, crest level is raised to bed level\n"
       ]
      },
      {
       "output_type": "stream",
       "stream": "stderr",
       "text": [
        "WARNING:python_subgrid.wrapper:Crest level of structure connection_76 is below bed level of adjacent cells, crest level is raised to bed level\n"
       ]
      },
      {
       "output_type": "stream",
       "stream": "stderr",
       "text": [
        "WARNING:python_subgrid.wrapper:Crest level of structure connection_76 is below bed level of adjacent cells, crest level is raised to bed level\n"
       ]
      },
      {
       "output_type": "stream",
       "stream": "stderr",
       "text": [
        "WARNING:python_subgrid.wrapper:Crest level of structure connection_77 is below bed level of adjacent cells, crest level is raised to bed level\n"
       ]
      },
      {
       "output_type": "stream",
       "stream": "stderr",
       "text": [
        "WARNING:python_subgrid.wrapper:Crest level of structure connection_77 is below bed level of adjacent cells, crest level is raised to bed level\n"
       ]
      },
      {
       "output_type": "stream",
       "stream": "stderr",
       "text": [
        "WARNING:python_subgrid.wrapper:Crest level of structure connection_77 is below bed level of adjacent cells, crest level is raised to bed level\n"
       ]
      },
      {
       "output_type": "stream",
       "stream": "stderr",
       "text": [
        "WARNING:python_subgrid.wrapper:Crest level of structure connection_77 is below bed level of adjacent cells, crest level is raised to bed level\n"
       ]
      },
      {
       "output_type": "stream",
       "stream": "stderr",
       "text": [
        "WARNING:python_subgrid.wrapper:Crest level of structure connection_77 is below bed level of adjacent cells, crest level is raised to bed level\n"
       ]
      },
      {
       "output_type": "stream",
       "stream": "stderr",
       "text": [
        "WARNING:python_subgrid.wrapper:Crest level of structure connection_77 is below bed level of adjacent cells, crest level is raised to bed level\n"
       ]
      },
      {
       "output_type": "stream",
       "stream": "stderr",
       "text": [
        "WARNING:python_subgrid.wrapper:Crest level of structure connection_77 is below bed level of adjacent cells, crest level is raised to bed level\n"
       ]
      },
      {
       "output_type": "stream",
       "stream": "stderr",
       "text": [
        "WARNING:python_subgrid.wrapper:Crest level of structure connection_77 is below bed level of adjacent cells, crest level is raised to bed level\n"
       ]
      },
      {
       "output_type": "stream",
       "stream": "stderr",
       "text": [
        "WARNING:python_subgrid.wrapper:Crest level of structure connection_78 is below bed level of adjacent cells, crest level is raised to bed level\n"
       ]
      },
      {
       "output_type": "stream",
       "stream": "stderr",
       "text": [
        "WARNING:python_subgrid.wrapper:Crest level of structure connection_78 is below bed level of adjacent cells, crest level is raised to bed level\n"
       ]
      },
      {
       "output_type": "stream",
       "stream": "stderr",
       "text": [
        "WARNING:python_subgrid.wrapper:Crest level of structure connection_78 is below bed level of adjacent cells, crest level is raised to bed level\n"
       ]
      },
      {
       "output_type": "stream",
       "stream": "stderr",
       "text": [
        "WARNING:python_subgrid.wrapper:Crest level of structure connection_78 is below bed level of adjacent cells, crest level is raised to bed level\n"
       ]
      },
      {
       "output_type": "stream",
       "stream": "stderr",
       "text": [
        "WARNING:python_subgrid.wrapper:Crest level of structure connection_78 is below bed level of adjacent cells, crest level is raised to bed level\n"
       ]
      },
      {
       "output_type": "stream",
       "stream": "stderr",
       "text": [
        "WARNING:python_subgrid.wrapper:Crest level of structure connection_78 is below bed level of adjacent cells, crest level is raised to bed level\n"
       ]
      },
      {
       "output_type": "stream",
       "stream": "stderr",
       "text": [
        "WARNING:python_subgrid.wrapper:Crest level of structure connection_78 is below bed level of adjacent cells, crest level is raised to bed level\n"
       ]
      },
      {
       "output_type": "stream",
       "stream": "stderr",
       "text": [
        "WARNING:python_subgrid.wrapper:Crest level of structure connection_79 is below bed level of adjacent cells, crest level is raised to bed level\n"
       ]
      },
      {
       "output_type": "stream",
       "stream": "stderr",
       "text": [
        "WARNING:python_subgrid.wrapper:Crest level of structure connection_79 is below bed level of adjacent cells, crest level is raised to bed level\n"
       ]
      },
      {
       "output_type": "stream",
       "stream": "stderr",
       "text": [
        "WARNING:python_subgrid.wrapper:Crest level of structure connection_79 is below bed level of adjacent cells, crest level is raised to bed level\n"
       ]
      },
      {
       "output_type": "stream",
       "stream": "stderr",
       "text": [
        "WARNING:python_subgrid.wrapper:Crest level of structure connection_79 is below bed level of adjacent cells, crest level is raised to bed level\n"
       ]
      },
      {
       "output_type": "stream",
       "stream": "stderr",
       "text": [
        "WARNING:python_subgrid.wrapper:Crest level of structure connection_79 is below bed level of adjacent cells, crest level is raised to bed level\n"
       ]
      },
      {
       "output_type": "stream",
       "stream": "stderr",
       "text": [
        "WARNING:python_subgrid.wrapper:Crest level of structure connection_79 is below bed level of adjacent cells, crest level is raised to bed level\n"
       ]
      },
      {
       "output_type": "stream",
       "stream": "stderr",
       "text": [
        "WARNING:python_subgrid.wrapper:Crest level of structure connection_79 is below bed level of adjacent cells, crest level is raised to bed level\n"
       ]
      },
      {
       "output_type": "stream",
       "stream": "stderr",
       "text": [
        "WARNING:python_subgrid.wrapper:Crest level of structure connection_79 is below bed level of adjacent cells, crest level is raised to bed level\n"
       ]
      },
      {
       "output_type": "stream",
       "stream": "stderr",
       "text": [
        "WARNING:python_subgrid.wrapper:Crest level of structure connection_79 is below bed level of adjacent cells, crest level is raised to bed level\n"
       ]
      },
      {
       "output_type": "stream",
       "stream": "stderr",
       "text": [
        "WARNING:python_subgrid.wrapper:Crest level of structure connection_79 is below bed level of adjacent cells, crest level is raised to bed level\n"
       ]
      },
      {
       "output_type": "stream",
       "stream": "stderr",
       "text": [
        "WARNING:python_subgrid.wrapper:Crest level of structure connection_79 is below bed level of adjacent cells, crest level is raised to bed level\n"
       ]
      },
      {
       "output_type": "stream",
       "stream": "stderr",
       "text": [
        "WARNING:python_subgrid.wrapper:Crest level of structure connection_79 is below bed level of adjacent cells, crest level is raised to bed level\n"
       ]
      },
      {
       "output_type": "stream",
       "stream": "stderr",
       "text": [
        "WARNING:python_subgrid.wrapper:Crest level of structure connection_79 is below bed level of adjacent cells, crest level is raised to bed level\n"
       ]
      },
      {
       "output_type": "stream",
       "stream": "stderr",
       "text": [
        "WARNING:python_subgrid.wrapper:Crest level of structure connection_80 is below bed level of adjacent cells, crest level is raised to bed level\n"
       ]
      },
      {
       "output_type": "stream",
       "stream": "stderr",
       "text": [
        "WARNING:python_subgrid.wrapper:Crest level of structure connection_80 is below bed level of adjacent cells, crest level is raised to bed level\n"
       ]
      },
      {
       "output_type": "stream",
       "stream": "stderr",
       "text": [
        "WARNING:python_subgrid.wrapper:Crest level of structure connection_80 is below bed level of adjacent cells, crest level is raised to bed level\n"
       ]
      },
      {
       "output_type": "stream",
       "stream": "stderr",
       "text": [
        "WARNING:python_subgrid.wrapper:Crest level of structure connection_80 is below bed level of adjacent cells, crest level is raised to bed level\n"
       ]
      },
      {
       "output_type": "stream",
       "stream": "stderr",
       "text": [
        "WARNING:python_subgrid.wrapper:Crest level of structure connection_80 is below bed level of adjacent cells, crest level is raised to bed level\n"
       ]
      },
      {
       "output_type": "stream",
       "stream": "stderr",
       "text": [
        "WARNING:python_subgrid.wrapper:Crest level of structure connection_80 is below bed level of adjacent cells, crest level is raised to bed level\n"
       ]
      },
      {
       "output_type": "stream",
       "stream": "stderr",
       "text": [
        "WARNING:python_subgrid.wrapper:Crest level of structure connection_80 is below bed level of adjacent cells, crest level is raised to bed level\n"
       ]
      },
      {
       "output_type": "stream",
       "stream": "stderr",
       "text": [
        "WARNING:python_subgrid.wrapper:Crest level of structure connection_80 is below bed level of adjacent cells, crest level is raised to bed level\n"
       ]
      },
      {
       "output_type": "stream",
       "stream": "stderr",
       "text": [
        "WARNING:python_subgrid.wrapper:Crest level of structure connection_80 is below bed level of adjacent cells, crest level is raised to bed level\n"
       ]
      },
      {
       "output_type": "stream",
       "stream": "stderr",
       "text": [
        "WARNING:python_subgrid.wrapper:Crest level of structure connection_80 is below bed level of adjacent cells, crest level is raised to bed level\n"
       ]
      },
      {
       "output_type": "stream",
       "stream": "stderr",
       "text": [
        "WARNING:python_subgrid.wrapper:Crest level of structure connection_81 is below bed level of adjacent cells, crest level is raised to bed level\n"
       ]
      },
      {
       "output_type": "stream",
       "stream": "stderr",
       "text": [
        "WARNING:python_subgrid.wrapper:Crest level of structure connection_81 is below bed level of adjacent cells, crest level is raised to bed level\n"
       ]
      },
      {
       "output_type": "stream",
       "stream": "stderr",
       "text": [
        "WARNING:python_subgrid.wrapper:Crest level of structure connection_81 is below bed level of adjacent cells, crest level is raised to bed level\n"
       ]
      },
      {
       "output_type": "stream",
       "stream": "stderr",
       "text": [
        "WARNING:python_subgrid.wrapper:Crest level of structure connection_81 is below bed level of adjacent cells, crest level is raised to bed level\n"
       ]
      },
      {
       "output_type": "stream",
       "stream": "stderr",
       "text": [
        "WARNING:python_subgrid.wrapper:Crest level of structure connection_81 is below bed level of adjacent cells, crest level is raised to bed level\n"
       ]
      }
     ],
     "prompt_number": 3
    },
    {
     "cell_type": "code",
     "collapsed": false,
     "input": [
      "# Get the variables needed or the levee update\n",
      "grid = {}\n",
      "for var in {'FlowElem_xcc', 'FlowElem_ycc', 'nod_type', 'FlowElemContour_x', \n",
      "            'FlowElemContour_y', 'dmax', 'dps', 'x0p', 'y0p', 'x1p', 'y1p',\n",
      "            'dxp', 'dyp',\n",
      "            'levnd0', 'levnd1', 'xleve', 'yleve', 'dlev', 'xlevnd', 'ylevnd'}:\n",
      "    value = subgrid.get_nd(var, sliced=True)\n",
      "    if value is not None:\n",
      "        grid[var] = value.copy()\n",
      "quad_grid = python_subgrid.plotting.make_quad_grid(subgrid)"
     ],
     "language": "python",
     "metadata": {},
     "outputs": [],
     "prompt_number": 4
    },
    {
     "cell_type": "code",
     "collapsed": false,
     "input": [
      "for i in range(20):\n",
      "    subgrid.update(-1)\n",
      "vars = {}\n",
      "for var in {'s1', 'q', 'vol1'}:\n",
      "    vars[var] = subgrid.get_nd(var, sliced=True).copy()\n",
      "vars['wl'] = vars['s1'] - -grid['dmax']\n",
      "colors = matplotlib.cm.Blues(matplotlib.colors.Normalize(vmin=vars['wl'].min(), vmax=vars['wl'].max())(vars['wl']))\n"
     ],
     "language": "python",
     "metadata": {},
     "outputs": [
      {
       "output_type": "stream",
       "stream": "stderr",
       "text": [
        "WARNING:python_subgrid.wrapper:File admin/tablekockengen_kockengen.tbl  does not exist. Tables will be generated.\n"
       ]
      },
      {
       "output_type": "stream",
       "stream": "stderr",
       "text": [
        "WARNING:python_subgrid.wrapper:!! no convergence for CG simple method. noiter, eps=           1001      0.000010\n"
       ]
      },
      {
       "output_type": "stream",
       "stream": "stderr",
       "text": [
        "WARNING:python_subgrid.wrapper:!! no convergence for CG simple method. noiter, eps=           1001      0.000001\n"
       ]
      },
      {
       "output_type": "stream",
       "stream": "stderr",
       "text": [
        "WARNING:python_subgrid.wrapper:!! no convergence for CG simple method. noiter, eps=           1001      0.000003\n"
       ]
      },
      {
       "output_type": "stream",
       "stream": "stderr",
       "text": [
        "WARNING:python_subgrid.wrapper:!! no convergence for CG simple method. noiter, eps=           1001      0.000001\n"
       ]
      },
      {
       "output_type": "stream",
       "stream": "stderr",
       "text": [
        "WARNING:python_subgrid.wrapper:!! no convergence for CG simple method. noiter, eps=           1001      0.000000\n"
       ]
      },
      {
       "output_type": "stream",
       "stream": "stderr",
       "text": [
        "WARNING:python_subgrid.wrapper:!! no convergence for CG simple method. noiter, eps=           1001      0.000000\n"
       ]
      },
      {
       "output_type": "stream",
       "stream": "stderr",
       "text": [
        "WARNING:python_subgrid.wrapper:!! no convergence for CG simple method. noiter, eps=           1001      0.000000\n"
       ]
      },
      {
       "output_type": "stream",
       "stream": "stderr",
       "text": [
        "WARNING:python_subgrid.wrapper:!! no convergence for CG simple method. noiter, eps=           1001      0.000001\n"
       ]
      },
      {
       "output_type": "stream",
       "stream": "stderr",
       "text": [
        "WARNING:python_subgrid.wrapper:!! no convergence for CG simple method. noiter, eps=           1001      0.000000\n"
       ]
      },
      {
       "output_type": "stream",
       "stream": "stderr",
       "text": [
        "WARNING:python_subgrid.wrapper:!! no convergence for CG simple method. noiter, eps=           1001      0.000002\n"
       ]
      },
      {
       "output_type": "stream",
       "stream": "stderr",
       "text": [
        "WARNING:python_subgrid.wrapper:!! no convergence for CG simple method. noiter, eps=           1001      0.000001\n"
       ]
      },
      {
       "output_type": "stream",
       "stream": "stderr",
       "text": [
        "WARNING:python_subgrid.wrapper:!! no convergence for CG simple method. noiter, eps=           1001      0.000001\n"
       ]
      },
      {
       "output_type": "stream",
       "stream": "stderr",
       "text": [
        "WARNING:python_subgrid.wrapper:!! no convergence for CG simple method. noiter, eps=           1001      0.000001\n"
       ]
      },
      {
       "output_type": "stream",
       "stream": "stderr",
       "text": [
        "WARNING:python_subgrid.wrapper:!! no convergence for CG simple method. noiter, eps=           1001      0.000001\n"
       ]
      },
      {
       "output_type": "stream",
       "stream": "stderr",
       "text": [
        "WARNING:python_subgrid.wrapper:!! no convergence for CG simple method. noiter, eps=           1001      0.000001\n"
       ]
      },
      {
       "output_type": "stream",
       "stream": "stderr",
       "text": [
        "WARNING:python_subgrid.wrapper:!! no convergence for CG simple method. noiter, eps=           1001      0.000002\n"
       ]
      },
      {
       "output_type": "stream",
       "stream": "stderr",
       "text": [
        "WARNING:python_subgrid.wrapper:!! no convergence for CG simple method. noiter, eps=           1001      0.000001\n"
       ]
      },
      {
       "output_type": "stream",
       "stream": "stderr",
       "text": [
        "WARNING:python_subgrid.wrapper:!! no convergence for CG simple method. noiter, eps=           1001      0.000001\n"
       ]
      },
      {
       "output_type": "stream",
       "stream": "stderr",
       "text": [
        "WARNING:python_subgrid.wrapper:!! no convergence for CG simple method. noiter, eps=           1001      0.000001\n"
       ]
      },
      {
       "output_type": "stream",
       "stream": "stderr",
       "text": [
        "WARNING:python_subgrid.wrapper:!! no convergence for CG simple method. noiter, eps=           1001      0.000002\n"
       ]
      },
      {
       "output_type": "stream",
       "stream": "stderr",
       "text": [
        "WARNING:python_subgrid.wrapper:!! no convergence for CG simple method. noiter, eps=           1001      0.000001\n"
       ]
      },
      {
       "output_type": "stream",
       "stream": "stderr",
       "text": [
        "WARNING:python_subgrid.wrapper:!! no convergence for CG simple method. noiter, eps=           1001      0.000000\n"
       ]
      },
      {
       "output_type": "stream",
       "stream": "stderr",
       "text": [
        "WARNING:python_subgrid.wrapper:!! no convergence for CG simple method. noiter, eps=           1001      0.000002\n"
       ]
      },
      {
       "output_type": "stream",
       "stream": "stderr",
       "text": [
        "WARNING:python_subgrid.wrapper:!! no convergence for CG simple method. noiter, eps=           1001      0.000001\n"
       ]
      },
      {
       "output_type": "stream",
       "stream": "stderr",
       "text": [
        "WARNING:python_subgrid.wrapper:!! no convergence for CG simple method. noiter, eps=           1001      0.000001\n"
       ]
      },
      {
       "output_type": "stream",
       "stream": "stderr",
       "text": [
        "WARNING:python_subgrid.wrapper:!! no convergence for CG simple method. noiter, eps=           1001      0.000001\n"
       ]
      },
      {
       "output_type": "stream",
       "stream": "stderr",
       "text": [
        "WARNING:python_subgrid.wrapper:!! no convergence for CG simple method. noiter, eps=           1001      0.000000\n"
       ]
      },
      {
       "output_type": "stream",
       "stream": "stderr",
       "text": [
        "WARNING:python_subgrid.wrapper:!! no convergence for CG simple method. noiter, eps=           1001      0.000000\n"
       ]
      },
      {
       "output_type": "stream",
       "stream": "stderr",
       "text": [
        "WARNING:python_subgrid.wrapper:!! no convergence for CG simple method. noiter, eps=           1001      0.000000\n"
       ]
      },
      {
       "output_type": "stream",
       "stream": "stderr",
       "text": [
        "WARNING:python_subgrid.wrapper:!! no convergence for CG simple method. noiter, eps=           1001      0.000000\n"
       ]
      },
      {
       "output_type": "stream",
       "stream": "stderr",
       "text": [
        "WARNING:python_subgrid.wrapper:!! no convergence for CG simple method. noiter, eps=           1001      0.000000\n"
       ]
      },
      {
       "output_type": "stream",
       "stream": "stderr",
       "text": [
        "WARNING:python_subgrid.wrapper:!! no convergence for CG simple method. noiter, eps=           1001      0.000000\n"
       ]
      },
      {
       "output_type": "stream",
       "stream": "stderr",
       "text": [
        "WARNING:python_subgrid.wrapper:!! no convergence for CG simple method. noiter, eps=           1001      0.000001\n"
       ]
      },
      {
       "output_type": "stream",
       "stream": "stderr",
       "text": [
        "WARNING:python_subgrid.wrapper:!! no convergence for CG simple method. noiter, eps=           1001      0.000000\n"
       ]
      },
      {
       "output_type": "stream",
       "stream": "stderr",
       "text": [
        "WARNING:python_subgrid.wrapper:!! no convergence for CG simple method. noiter, eps=           1001      0.000001\n"
       ]
      },
      {
       "output_type": "stream",
       "stream": "stderr",
       "text": [
        "WARNING:python_subgrid.wrapper:!! no convergence for CG simple method. noiter, eps=           1001      0.000000\n"
       ]
      },
      {
       "output_type": "stream",
       "stream": "stderr",
       "text": [
        "WARNING:python_subgrid.wrapper:!! no convergence for CG simple method. noiter, eps=           1001      0.000000\n"
       ]
      },
      {
       "output_type": "stream",
       "stream": "stderr",
       "text": [
        "WARNING:python_subgrid.wrapper:!! no convergence for CG simple method. noiter, eps=           1001      0.000000\n"
       ]
      },
      {
       "output_type": "stream",
       "stream": "stderr",
       "text": [
        "WARNING:python_subgrid.wrapper:!! no convergence for CG simple method. noiter, eps=           1001      0.000000\n"
       ]
      },
      {
       "output_type": "stream",
       "stream": "stderr",
       "text": [
        "WARNING:python_subgrid.wrapper:!! no convergence for CG simple method. noiter, eps=           1001      0.000000\n"
       ]
      },
      {
       "output_type": "stream",
       "stream": "stderr",
       "text": [
        "WARNING:python_subgrid.wrapper:!! no convergence for CG simple method. noiter, eps=           1001      0.000000\n"
       ]
      },
      {
       "output_type": "stream",
       "stream": "stderr",
       "text": [
        "WARNING:python_subgrid.wrapper:!! no convergence for CG simple method. noiter, eps=           1001      0.000000\n"
       ]
      },
      {
       "output_type": "stream",
       "stream": "stderr",
       "text": [
        "WARNING:python_subgrid.wrapper:!! no convergence for CG simple method. noiter, eps=           1001      0.000001\n"
       ]
      },
      {
       "output_type": "stream",
       "stream": "stderr",
       "text": [
        "WARNING:python_subgrid.wrapper:!! no convergence for CG simple method. noiter, eps=           1001      0.000001\n"
       ]
      },
      {
       "output_type": "stream",
       "stream": "stderr",
       "text": [
        "WARNING:python_subgrid.wrapper:!! no convergence for CG simple method. noiter, eps=           1001      0.000001\n"
       ]
      },
      {
       "output_type": "stream",
       "stream": "stderr",
       "text": [
        "WARNING:python_subgrid.wrapper:!! no convergence for CG simple method. noiter, eps=           1001      0.000001\n"
       ]
      }
     ],
     "prompt_number": 5
    },
    {
     "cell_type": "code",
     "collapsed": false,
     "input": [
      "manhole =     {\n",
      "        \"itype\": 1, \n",
      "        \"timestep_start\": 16, \n",
      "        \"hash\": \"0bba855b78e8042b9ae9d8ba1c9a1695d3fe34c6\", \n",
      "        \"timestep_end\": None, \n",
      "        \"wgs84_y\": \"52.138430275373516\", \n",
      "        \"wgs84_x\": \"4.979805351667136\", \n",
      "        \"amount\": 2.0, \n",
      "        \"y\": 461215.50900446286, \n",
      "        \"x\": 127109.67984852854, \n",
      "        \"type\": \"manhole\", \n",
      "        \"unique_id\": \"00f81085-144a-48f8-aaf6-9d0b50521142\"\n",
      "    }\n",
      "\n",
      "\n",
      "polygon = shapely.geometry.shape({\n",
      "    \"type\": \"Polygon\", \n",
      "    \"coordinates\": [[\n",
      "                [126966.098,461322.395],\n",
      "                [126926.560,461235.412],\n",
      "                [127057.299,461170.570],\n",
      "                [127095.782,461247.009]\n",
      "                ]] }\n",
      ")\n"
     ],
     "language": "python",
     "metadata": {},
     "outputs": [],
     "prompt_number": 6
    },
    {
     "cell_type": "code",
     "collapsed": false,
     "input": [
      "x = grid['FlowElem_xcc'][grid['nod_type']==1]\n",
      "y = grid['FlowElem_ycc'][grid['nod_type']==1]\n",
      "\n",
      "x"
     ],
     "language": "python",
     "metadata": {},
     "outputs": [
      {
       "metadata": {},
       "output_type": "pyout",
       "prompt_number": 7,
       "text": [
        "array([ 124474.5,  124474.5,  124474.5, ...,  126337. ,  126342. ,  126342. ])"
       ]
      }
     ],
     "prompt_number": 7
    },
    {
     "cell_type": "code",
     "collapsed": false,
     "input": [
      "# this levee is not a linestring\n",
      "import networkx as nx\n",
      "if 'xlevnd' in grid: \n",
      "    # we want to have separate levees\n",
      "    # lookup the split points\n",
      "    start = grid['levnd0'] - 1\n",
      "    end = grid['levnd1'] - 1\n",
      "    xlev = grid['xlevnd']\n",
      "    ylev = grid['ylevnd']\n",
      "\n",
      "    edges = np.c_[start, end]\n",
      "    G = nx.Graph()\n",
      "    G.add_edges_from(edges)\n",
      "    nx.number_connected_components(G)\n",
      "    lines = list(nx.DiGraph(g.edges()) for g in nx.connected_component_subgraphs(G))\n",
      "\n",
      "    g = [line for line in lines if len(line.edges()) > 1][2]\n",
      "    for edge in g.edges():\n",
      "        plt.plot([xlev[edge[0]], xlev[edge[1]]], [ylev[edge[0]],ylev[edge[1]]], 'k-')\n",
      "    "
     ],
     "language": "python",
     "metadata": {},
     "outputs": [
      {
       "metadata": {},
       "output_type": "display_data",
       "png": "[encoded data removed]",
       "text": [
        "<matplotlib.figure.Figure at 0x154526050>"
       ]
      }
     ],
     "prompt_number": 8
    },
    {
     "cell_type": "code",
     "collapsed": false,
     "input": [
      "# if we have a model with levees\n",
      "if 'xlevnd' in grid: \n",
      "    # we want to have separate levees\n",
      "    # lookup the split points\n",
      "    start = grid['levnd0'] - 1\n",
      "    end = grid['levnd1'] - 1\n",
      "    xlev = grid['xlevnd']\n",
      "    ylev = grid['ylevnd']\n",
      "for edge in zip(start, end):\n",
      "    plt.plot([xlev[edge[0]], xlev[edge[1]]], [ylev[edge[0]],ylev[edge[1]]], 'k-')\n"
     ],
     "language": "python",
     "metadata": {},
     "outputs": [
      {
       "metadata": {},
       "output_type": "display_data",
       "png": "[encoded data removed]",
       "text": [
        "<matplotlib.figure.Figure at 0x1547bd450>"
       ]
      }
     ],
     "prompt_number": 9
    },
    {
     "cell_type": "code",
     "collapsed": false,
     "input": [
      "# if we have a model with levees\n",
      "if 'xlevnd' in grid: \n",
      "    # we want to have separate levees\n",
      "    \n",
      "    xlev = grid['xlevnd']\n",
      "    ylev = grid['ylevnd']\n",
      "    points = np.r_[\n",
      "                 np.c_[x,y], \n",
      "                 np.c_[xlev, ylev]\n",
      "                 ]\n",
      "    # split up the levees, we now have a list of arrays with start end points\n",
      "    start = grid['levnd0'] - 1\n",
      "    end = grid['levnd1'] - 1\n",
      "    \n",
      "    # reconstruct the separate lines\n",
      "    lines = []\n",
      "    # match up begin and end\n",
      "    for (seg_begin, seg_end) in zip(start, end):\n",
      "        lines.append(\n",
      "            [\n",
      "                (xlev[seg_begin], ylev[seg_begin]), \n",
      "                (xlev[seg_end], ylev[seg_end])\n",
      "            ]\n",
      "        )\n",
      "    levees = shapely.geometry.MultiLineString(lines)\n",
      "levees.to_wkt()[:100] + '...'"
     ],
     "language": "python",
     "metadata": {},
     "outputs": [
      {
       "metadata": {},
       "output_type": "pyout",
       "prompt_number": 10,
       "text": [
        "'MULTILINESTRING ((126845.9613950000057230 458871.7821289999992587, 126857.6895150000054855 458850.35...'"
       ]
      }
     ],
     "prompt_number": 10
    },
    {
     "cell_type": "code",
     "collapsed": false,
     "input": [
      "def render(subgrid, grid, quad_grid, patch, labels=False):\n",
      "    fig, ax = plt.subplots(figsize=(20,13))\n",
      "    origin= (grid['x0p'], grid['y0p'])\n",
      "    extent=(grid['x0p'], grid['x1p'], grid['y0p'], grid['y1p'])\n",
      "    wl = subgrid.get_nd('s1', sliced=True)[quad_grid.filled(-1)]- -grid['dps']\n",
      "    vol_mask = (subgrid.get_nd('vol1', sliced=True)==0)[quad_grid.filled(-1)]\n",
      "    wl_masked = np.ma.masked_array(wl, vol_mask)\n",
      "    vol = subgrid.get_nd('vol1', sliced=True)[quad_grid.filled(-1)]\n",
      "    im = ax.imshow(wl_masked, cmap='Blues', vmin=0.0, vmax=5, origin=origin, extent=extent)\n",
      "    #im = ax.imshow(subgrid.get_nd('s1', sliced=True)[quad_grid.filled(-1)], cmap='Blues', vmin=-5, vmax=5, origin=origin, extent=extent)\n",
      "    xc = grid['FlowElemContour_x']\n",
      "    yc = grid['FlowElemContour_y']\n",
      "    verts = [np.c_[xc_i, yc_i] for xc_i, yc_i in zip(xc, yc)]\n",
      "\n",
      "    poly_collection = matplotlib.collections.PolyCollection(verts, closed=True, linewidth=0.1, transOffset=ax.transData, facecolor='none')\n",
      "    if 'xlevnd' in grid:\n",
      "        for i, levee in enumerate(levees):\n",
      "            plt.plot(levee.xy[0], levee.xy[1], 'k-', linewidth=0.1)\n",
      "            if labels:\n",
      "                plt.text(np.mean(levee.xy[0]), np.mean(levee.xy[1]), str(i), fontsize=6)\n",
      "        sc = ax.scatter(grid['xleve'].mean(0), grid['yleve'].mean(0), c=grid['dlev'], s=3*(-grid['dlev']-10), edgecolor='none', vmin=-2,vmax=1)\n",
      "        plt.colorbar(sc, ax=ax)\n",
      "    plt.colorbar(im, ax=ax)\n",
      "    #trans = fig.dpi_scale_trans + matplotlib.transforms.Affine2D().scale(1.0/72.0)\n",
      "    #poly_collection.set_transform(trans)  # the points to pixels transform\n",
      "    ax.add_collection(poly_collection)\n",
      "    ax.add_patch(patch)\n",
      "    ax.autoscale_view()\n"
     ],
     "language": "python",
     "metadata": {},
     "outputs": [],
     "prompt_number": 24
    },
    {
     "cell_type": "code",
     "collapsed": false,
     "input": [
      "subgrid.discharge(manhole['x'], manhole['y'], manhole['unique_id'], manhole['itype'], manhole['amount']*100)\n",
      "manhole"
     ],
     "language": "python",
     "metadata": {},
     "outputs": [
      {
       "metadata": {},
       "output_type": "pyout",
       "prompt_number": 12,
       "text": [
        "{'amount': 2.0,\n",
        " 'hash': '0bba855b78e8042b9ae9d8ba1c9a1695d3fe34c6',\n",
        " 'itype': 1,\n",
        " 'timestep_end': None,\n",
        " 'timestep_start': 16,\n",
        " 'type': 'manhole',\n",
        " 'unique_id': '00f81085-144a-48f8-aaf6-9d0b50521142',\n",
        " 'wgs84_x': '4.979805351667136',\n",
        " 'wgs84_y': '52.138430275373516',\n",
        " 'x': 127109.67984852854,\n",
        " 'y': 461215.50900446286}"
       ]
      }
     ],
     "prompt_number": 12
    },
    {
     "cell_type": "code",
     "collapsed": false,
     "input": [
      "# let the simulation run for a bit\n",
      "#for i in range(5):\n",
      "#    subgrid.update(-1)\n",
      "\n",
      "# create an area where we want to update the levees\n",
      "# assume that if  you lower the rectangle, that the area south of it will flood\n",
      "xy = polygon.exterior.coords\n",
      "patch = matplotlib.patches.Polygon(xy, facecolor='none')\n",
      "# plot the model\n",
      "render(subgrid, grid, quad_grid, patch)\n",
      "plt.plot(manhole['x'], manhole['y'], 'rx')\n",
      "plt.xlim(126000, 128000)\n",
      "plt.ylim(461000, 462000)"
     ],
     "language": "python",
     "metadata": {},
     "outputs": [
      {
       "metadata": {},
       "output_type": "pyout",
       "prompt_number": 26,
       "text": [
        "(461000, 462000)"
       ]
      },
      {
       "metadata": {},
       "output_type": "display_data",
       "png": "[encoded data removed]",
       "text": [
        "<matplotlib.figure.Figure at 0x109c02c10>"
       ]
      }
     ],
     "prompt_number": 26
    },
    {
     "cell_type": "code",
     "collapsed": false,
     "input": [
      "# intersect the levees with the polygon\n",
      "shapely.geometry.mapping(levees.intersection(polygon))"
     ],
     "language": "python",
     "metadata": {},
     "outputs": [
      {
       "metadata": {},
       "output_type": "pyout",
       "prompt_number": 14,
       "text": [
        "{'coordinates': (((126997.679734959, 461200.1390833171),\n",
        "   (126998.338164, 461202.086183)),\n",
        "  ((126998.338164, 461202.086183), (127014.072488, 461248.616472)),\n",
        "  ((127014.072488, 461248.616472), (127027.0665881455, 461286.95363494393))),\n",
        " 'type': 'MultiLineString'}"
       ]
      }
     ],
     "prompt_number": 14
    },
    {
     "cell_type": "code",
     "collapsed": false,
     "input": [
      "import shapely.prepared\n",
      "# create a prepared polygon for performance\n",
      "polygon_prepared = shapely.prepared.prep(polygon)\n"
     ],
     "language": "python",
     "metadata": {},
     "outputs": [],
     "prompt_number": 15
    },
    {
     "cell_type": "code",
     "collapsed": false,
     "input": [
      "# lookup the levees that are at least partially in the polygon\n",
      "\n",
      "start_points = np.c_[grid['xleve'][0], grid['yleve'][0]]\n",
      "end_points = np.c_[grid['xleve'][1], grid['yleve'][1]]\n",
      "\n",
      "lines = []\n",
      "for start, end in zip(start_points, end_points):\n",
      "    line = shapely.geometry.LineString([start, end])\n",
      "    lines.append(line)\n",
      "# Use contains if you only want the levees that are fully contained\n",
      "in_levee = [polygon_prepared.intersects(line) for line in lines]\n",
      "levee_idx, = np.where(in_levee)\n",
      "levee_idx"
     ],
     "language": "python",
     "metadata": {},
     "outputs": [
      {
       "metadata": {},
       "output_type": "pyout",
       "prompt_number": 16,
       "text": [
        "array([1064, 1065, 1066, 1067, 1068, 1069, 1070, 1071, 1072, 1073, 1074,\n",
        "       1075, 1076, 1077, 1078])"
       ]
      }
     ],
     "prompt_number": 16
    },
    {
     "cell_type": "code",
     "collapsed": false,
     "input": [
      "# lower the levees\n",
      "grid['dlev'][levee_idx] = -2\n",
      "grid['dlev']\n",
      "# update tables, nodes are ignored for now\n",
      "subgrid.update_tables('dlev', levee_idx + 1)\n",
      "\n",
      "# let the simulation run for a bit\n",
      "for i in range(20):\n",
      "    subgrid.update(-1)\n",
      "# plot the model"
     ],
     "language": "python",
     "metadata": {},
     "outputs": []
    },
    {
     "cell_type": "code",
     "collapsed": false,
     "input": [
      "import os\n",
      "os.getcwd()"
     ],
     "language": "python",
     "metadata": {},
     "outputs": [
      {
       "metadata": {},
       "output_type": "pyout",
       "prompt_number": 23,
       "text": [
        "'/Users/baart_f/models/kockengen'"
       ]
      }
     ],
     "prompt_number": 23
    },
    {
     "cell_type": "code",
     "collapsed": false,
     "input": [
      "render(subgrid, grid, quad_grid, patch, labels=True)\n",
      "plt.savefig('test.pdf')"
     ],
     "language": "python",
     "metadata": {},
     "outputs": [
      {
       "metadata": {},
       "output_type": "display_data",
       "png": "[encoded data removed]",
       "text": [
        "<matplotlib.figure.Figure at 0x154ef4b10>"
       ]
      }
     ],
     "prompt_number": 27
    },
    {
     "cell_type": "code",
     "collapsed": false,
     "input": [
      "# mark the point that we'll check for waterlevel\n",
      "fig, ax = plt.subplots(figsize=(20,13))\n",
      "#im = ax.imshow(subgrid.get_nd('s1', sliced=True)[quad_grid.filled(-1)], cmap='Blues', vmin=-5, vmax=5, origin=origin, extent=extent)\n",
      "xc = grid['FlowElemContour_x']\n",
      "yc = grid['FlowElemContour_y']\n",
      "verts = [np.c_[xc_i, yc_i] for xc_i, yc_i in zip(xc, yc)]\n",
      "\n",
      "poly_collection = matplotlib.collections.PolyCollection(verts, closed=True, linewidth=0.1, transOffset=ax.transData, facecolor='none')\n",
      "#trans = fig.dpi_scale_trans + matplotlib.transforms.Affine2D().scale(1.0/72.0)\n",
      "#poly_collection.set_transform(trans)  # the points to pixels transform\n",
      "ax.add_collection(poly_collection)\n",
      "poly_collection = matplotlib.collections.PolyCollection([verts[231]], closed=True, linewidth=0.1, transOffset=ax.transData, facecolor='red')\n",
      "ax.add_collection(poly_collection)\n",
      "if 'xlevnd' in grid:\n",
      "    #for levee in levees:\n",
      "    #    plt.plot(levee.xy[0], levee.xy[1], 'k-+')\n",
      "    grid['dlev'] = subgrid.get_nd('dlev')\n",
      "    sc = ax.scatter(grid['xleve'].mean(0), grid['yleve'].mean(0), c=grid['dlev']==2, edgecolor='none')\n",
      "    plt.colorbar(sc, ax=ax)\n"
     ],
     "language": "python",
     "metadata": {},
     "outputs": [
      {
       "metadata": {},
       "output_type": "display_data",
       "png": "[encoded data removed]",
       "text": [
        "<matplotlib.figure.Figure at 0x1d8e96350>"
       ]
      }
     ],
     "prompt_number": 18
    },
    {
     "cell_type": "code",
     "collapsed": false,
     "input": [],
     "language": "python",
     "metadata": {},
     "outputs": [],
     "prompt_number": 18
    },
    {
     "cell_type": "code",
     "collapsed": false,
     "input": [],
     "language": "python",
     "metadata": {},
     "outputs": [],
     "prompt_number": 18
    }
   ],
   "metadata": {}
  }
 ]
}