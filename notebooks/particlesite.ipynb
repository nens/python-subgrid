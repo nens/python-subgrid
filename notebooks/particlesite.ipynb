{
 "metadata": {
  "name": "",
  "signature": "sha256:e2dba8d5f880405e1a373188fa13d1ed7ecccc0577f5d42ac0b94433f65b873c"
 },
 "nbformat": 3,
 "nbformat_minor": 0,
 "worksheets": [
  {
   "cells": [
    {
     "cell_type": "code",
     "collapsed": false,
     "input": [
      "import pandas\n",
      "import datetime\n",
      "import numpy as np\n",
      "import netCDF4\n",
      "import osgeo.osr"
     ],
     "language": "python",
     "metadata": {},
     "outputs": [],
     "prompt_number": 10
    },
    {
     "cell_type": "code",
     "collapsed": false,
     "input": [
      "df = pandas.read_hdf('/Users/baart_f/models/sfo/sfo-3di/parts6.h5', 'particles')\n",
      "df['particle'] = df['particle'].astype('int64')\n"
     ],
     "language": "python",
     "metadata": {},
     "outputs": [],
     "prompt_number": 11
    },
    {
     "cell_type": "code",
     "collapsed": false,
     "input": [
      "#df['date'] = datetime.datetime(1962, 6, 12, 20) \n"
     ],
     "language": "python",
     "metadata": {},
     "outputs": [],
     "prompt_number": 12
    },
    {
     "cell_type": "code",
     "collapsed": false,
     "input": [
      "import dateutil.rrule\n",
      "rrule = dateutil.rrule.rrule(dateutil.rrule.HOURLY, dtstart=datetime.datetime(1962, 6, 11, 18, 0))\n",
      "escapes = rrule.between(datetime.datetime(1962, 6, 11, 20, 0), datetime.datetime(1962, 6, 12, 4, 0), inc=True)\n",
      "\n",
      "ds = netCDF4.Dataset('/Users/baart_f/models/sfo/sfo-3di/subgrid_map_15min.nc')\n",
      "times = netCDF4.num2date(ds.variables['time'][:], ds.variables['time'].units)\n",
      "\n",
      "idx = np.where(np.in1d(times, escapes))[0]\n",
      "idx"
     ],
     "language": "python",
     "metadata": {},
     "outputs": [
      {
       "metadata": {},
       "output_type": "pyout",
       "prompt_number": 40,
       "text": [
        "array([272, 276, 280, 284, 288, 292, 296, 300, 304])"
       ]
      }
     ],
     "prompt_number": 40
    },
    {
     "cell_type": "code",
     "collapsed": false,
     "input": [
      "i0 = 250\n",
      "mins = df[['particle', 't']].groupby('particle').min()\n",
      "swimmers = mins[np.in1d(mins['t'],ds.variables['time'][:][idx-i0])].index\n",
      "t_swimmers = ds.variables['time'][:][idx-i0]"
     ],
     "language": "python",
     "metadata": {},
     "outputs": [],
     "prompt_number": 41
    },
    {
     "cell_type": "code",
     "collapsed": false,
     "input": [
      "swimming = df[np.in1d(df['particle'], swimmers)]\n",
      "swimming['date'] = np.fromiter([times[i0] + datetime.timedelta(seconds=x) for x in swimming['t']], dtype='datetime64[s]')"
     ],
     "language": "python",
     "metadata": {},
     "outputs": [],
     "prompt_number": 42
    },
    {
     "cell_type": "code",
     "collapsed": false,
     "input": [
      "# generate the spatial reference systems and the transformations\n",
      "utm_srs = osgeo.osr.SpatialReference()\n",
      "utm_srs.ImportFromEPSGA(26910)\n",
      "osm_srs = osgeo.osr.SpatialReference()\n",
      "osm_srs.ImportFromEPSGA(3857)\n",
      "wgs_srs = osgeo.osr.SpatialReference()\n",
      "wgs_srs.ImportFromEPSGA(4326)\n",
      "utm2wgs = osgeo.osr.CoordinateTransformation(utm_srs, wgs_srs)\n",
      "utm2osm = osgeo.osr.CoordinateTransformation(utm_srs, osm_srs)\n",
      "wgs2utm = osgeo.osr.CoordinateTransformation(wgs_srs, utm_srs)\n",
      "wgs2osm = osgeo.osr.CoordinateTransformation(wgs_srs, osm_srs)"
     ],
     "language": "python",
     "metadata": {},
     "outputs": [],
     "prompt_number": 43
    },
    {
     "cell_type": "code",
     "collapsed": false,
     "input": [
      "latlonz = utm2wgs.TransformPoints(np.c_[swimming['x'], swimming['y']])\n",
      "swimming['lon'], swimming['lat'], _ = np.array(latlonz).T\n"
     ],
     "language": "python",
     "metadata": {},
     "outputs": [],
     "prompt_number": 44
    },
    {
     "cell_type": "code",
     "collapsed": false,
     "input": [
      "mins['start']  = np.fromiter([times[i0] + datetime.timedelta(seconds=x) for x in mins['t']], dtype='datetime64[s]')\n",
      "results = pandas.merge(swimming, mins['start'].reset_index(), left_on='particle', right_on='particle')\n",
      "results['hour'] = results['start'].apply(lambda x:x.strftime('%H:%M'))\n",
      "results['dt'] = np.subtract(results['t'], [x.total_seconds() for x in results['start'] - times[i0]])\n",
      "results = results[results['dt'] < 60*60*5]"
     ],
     "language": "python",
     "metadata": {},
     "outputs": [],
     "prompt_number": 45
    },
    {
     "cell_type": "code",
     "collapsed": false,
     "input": [
      "results[['lat', 'lon', 'date', 'hour']].to_csv('/Users/baart_f/models/sfo/sfo-3di/parts6a.csv')"
     ],
     "language": "python",
     "metadata": {},
     "outputs": [],
     "prompt_number": 46
    },
    {
     "cell_type": "code",
     "collapsed": false,
     "input": [],
     "language": "python",
     "metadata": {},
     "outputs": [
      {
       "metadata": {},
       "output_type": "pyout",
       "prompt_number": 37,
       "text": [
        "0       0\n",
        "1      60\n",
        "2     120\n",
        "3     180\n",
        "4     240\n",
        "5     300\n",
        "6     360\n",
        "7     420\n",
        "8     480\n",
        "9     540\n",
        "10    600\n",
        "11    660\n",
        "12    720\n",
        "13    780\n",
        "14    840\n",
        "...\n",
        "292158    14460\n",
        "292159    14520\n",
        "292160    14580\n",
        "292161    14640\n",
        "292162    14700\n",
        "292163    14760\n",
        "292164    14820\n",
        "292165    14880\n",
        "292166    14940\n",
        "292167    15000\n",
        "292168    15060\n",
        "292169    15120\n",
        "292170    15180\n",
        "292171    15240\n",
        "292172    15300\n",
        "Name: t, Length: 292173, dtype: float64"
       ]
      }
     ],
     "prompt_number": 37
    },
    {
     "cell_type": "code",
     "collapsed": false,
     "input": [],
     "language": "python",
     "metadata": {},
     "outputs": []
    }
   ],
   "metadata": {}
  }
 ]
}